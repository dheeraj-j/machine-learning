{
 "cells": [
  {
   "cell_type": "code",
   "execution_count": 2,
   "metadata": {},
   "outputs": [],
   "source": [
    "#Given an N×N chessboard, with two pieces, a black pawn and a white pawn randomly placed on the chessboard. What is the minimum number of steps required by the white pawn to reach the black pawn under the following assumptions.\n",
    "\n",
    "#a. The pawns are always inside the board.\n",
    "#b. The pawns can move in either if the 8 directions.\n",
    "#c. The pawns can move only 1 step at a time."
   ]
  },
  {
   "cell_type": "code",
   "execution_count": 3,
   "metadata": {},
   "outputs": [
    {
     "name": "stdout",
     "output_type": "stream",
     "text": [
      "6\n"
     ]
    }
   ],
   "source": [
    "import random\n",
    "c=random.randrange(1,9)\n",
    "print(c)"
   ]
  },
  {
   "cell_type": "code",
   "execution_count": 12,
   "metadata": {},
   "outputs": [],
   "source": [
    "m=2\n",
    "n=8\n",
    "for k in range(1):\n",
    "    def b1():\n",
    "        return m+1,n-1\n",
    "    def b2():\n",
    "        return m-1,n+1\n",
    "    def b3():\n",
    "        return m+1,n+1\n",
    "    def b4():\n",
    "        return m+1,n\n",
    "    def b5():\n",
    "        return m,n-1\n",
    "    def b6():\n",
    "        return m,n+1\n",
    "    def b7():\n",
    "        return m-1,n\n",
    "    def b8():\n",
    "        return m-1,n-1\n",
    "    def default():\n",
    "        return \"Incorrect value\"\n",
    "\n",
    "    switcher = {\n",
    "        1: b1,\n",
    "        2: b2,\n",
    "        3: b3,\n",
    "        4: b4,\n",
    "        5: b5,\n",
    "        6: b6,\n",
    "        7: b7,\n",
    "        8: b8\n",
    "    }\n",
    "\n",
    "    def switch(movement):\n",
    "        return switcher.get(movement, default)()\n",
    "\n",
    "    a=switch(c)\n",
    "    m=a[0]\n",
    "    n=a[1]\n",
    "    "
   ]
  },
  {
   "cell_type": "code",
   "execution_count": 13,
   "metadata": {},
   "outputs": [
    {
     "name": "stdout",
     "output_type": "stream",
     "text": [
      "2\n",
      "9\n"
     ]
    }
   ],
   "source": [
    "print(m)\n",
    "print(n)"
   ]
  },
  {
   "cell_type": "code",
   "execution_count": 1,
   "metadata": {},
   "outputs": [
    {
     "name": "stdout",
     "output_type": "stream",
     "text": [
      "enter row value for white pawn : 6\n",
      "enter column value for white pawn: 4\n",
      "enter row value for black pawn : 3\n",
      "enter column value for black pawn : 2\n",
      "enter max value: 700\n"
     ]
    }
   ],
   "source": [
    "count=0\n",
    "flag=0\n",
    "m=int(input(\"enter row value for white pawn : \"))\n",
    "n=int(input(\"enter column value for white pawn: \"))\n",
    "i=int(input(\"enter row value for black pawn : \"))\n",
    "j=int(input(\"enter column value for black pawn : \"))\n",
    "l=int(input(\"enter max value: \"))\n"
   ]
  },
  {
   "cell_type": "code",
   "execution_count": 2,
   "metadata": {},
   "outputs": [
    {
     "name": "stdout",
     "output_type": "stream",
     "text": [
      "3\n",
      "0\n"
     ]
    }
   ],
   "source": [
    "import random\n",
    "c=random.randrange(1,9)\n",
    "print(c)\n",
    "for k in range(1):\n",
    "    print(k)"
   ]
  },
  {
   "cell_type": "code",
   "execution_count": null,
   "metadata": {},
   "outputs": [],
   "source": []
  },
  {
   "cell_type": "code",
   "execution_count": 4,
   "metadata": {},
   "outputs": [
    {
     "name": "stdout",
     "output_type": "stream",
     "text": [
      "2\n"
     ]
    }
   ],
   "source": [
    "while(flag==0):\n",
    "    def move_black(x,y):\n",
    "        N=l\n",
    "        c = random.randrange(1,9)\n",
    "        if c==1: #up-right\n",
    "            if(x+1<N+1 and y+1<N+1):\n",
    "                x = x+1\n",
    "                y = y+1\n",
    "        elif c==2: #right\n",
    "            if(x+1<N+1):\n",
    "                x = x+1\n",
    "        elif c==3: #up\n",
    "            if(y+1<N+1):\n",
    "                y = y+1\n",
    "        elif c==4: #down-right\n",
    "            if(x+1<N+1 and y-1>0):\n",
    "                x = x+1\n",
    "                y = y-1\n",
    "        elif c==5: #down\n",
    "            if(y-1>0):\n",
    "                y = y-1\n",
    "        elif c==6: #down-left\n",
    "            if(x-1>0 and y-1>0):\n",
    "                x = x-1\n",
    "                y = y-1\n",
    "        elif c==7: #left\n",
    "            if(x-1>0):\n",
    "                x = x-1\n",
    "        elif c==8: #up-left\n",
    "            if(x-1>0 and y+1<N+1):\n",
    "                x = x-1\n",
    "                y = y+1\n",
    "        return x,y\n",
    "    m,n=move_black(m,n)\n",
    "    \n",
    "    if((m-i)>0 and (n-j)>0):\n",
    "        i=i+1\n",
    "        j=j+1\n",
    "        count=count+1\n",
    "    \n",
    "    elif((m-i)==0 and (n-j)!=0):\n",
    "    \n",
    "        if((n-j)<0):\n",
    "        \n",
    "            j=j-1\n",
    "            count=count+1\n",
    "        \n",
    "        else:\n",
    "            j=j+1\n",
    "            count=count+1\n",
    "        \n",
    "    elif((n-j)==0 and (m-i)!=0):\n",
    "    \n",
    "        if((m-i)>0):\n",
    "        \n",
    "            i=i+1\n",
    "            count=count+1\n",
    "        \n",
    "        else:\n",
    "         \n",
    "            i=i-1\n",
    "            count=count+1\n",
    "        \n",
    "        \n",
    "    elif((m-i)<0 and (n-j)<0):\n",
    "        \n",
    "        \n",
    "        i=i-1\n",
    "        j=j-1\n",
    "        count=count+1\n",
    "    \n",
    "    elif((m-i)>0 and (n-j)<0):\n",
    "        i=i+1;\n",
    "        j=j-1;\n",
    "        count=count+1;\n",
    "    \n",
    "    elif((m-i)<0 and (n-j)>0):\n",
    "        i=i-1;\n",
    "        j=j+1;\n",
    "        count=count+1\n",
    "    \n",
    "         \n",
    "    else:\n",
    "        flag=1\n",
    "        \n",
    "print(count)"
   ]
  },
  {
   "cell_type": "code",
   "execution_count": null,
   "metadata": {},
   "outputs": [],
   "source": []
  }
 ],
 "metadata": {
  "kernelspec": {
   "display_name": "Python 3",
   "language": "python",
   "name": "python3"
  },
  "language_info": {
   "codemirror_mode": {
    "name": "ipython",
    "version": 3
   },
   "file_extension": ".py",
   "mimetype": "text/x-python",
   "name": "python",
   "nbconvert_exporter": "python",
   "pygments_lexer": "ipython3",
   "version": "3.6.5"
  }
 },
 "nbformat": 4,
 "nbformat_minor": 2
}

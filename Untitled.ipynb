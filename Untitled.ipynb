{
 "cells": [
  {
   "cell_type": "code",
   "execution_count": 1,
   "metadata": {},
   "outputs": [],
   "source": [
    "import pandas as pd\n",
    "import numpy as np\n",
    "import matplotlib.pyplot as plt\n",
    "import datetime\n",
    "import seaborn as sns\n",
    "import warnings\n",
    "warnings.filterwarnings(\"ignore\", category=FutureWarning)\n",
    "from datetime import datetime"
   ]
  },
  {
   "cell_type": "code",
   "execution_count": 2,
   "metadata": {},
   "outputs": [
    {
     "data": {
      "text/html": [
       "<div>\n",
       "<style scoped>\n",
       "    .dataframe tbody tr th:only-of-type {\n",
       "        vertical-align: middle;\n",
       "    }\n",
       "\n",
       "    .dataframe tbody tr th {\n",
       "        vertical-align: top;\n",
       "    }\n",
       "\n",
       "    .dataframe thead th {\n",
       "        text-align: right;\n",
       "    }\n",
       "</style>\n",
       "<table border=\"1\" class=\"dataframe\">\n",
       "  <thead>\n",
       "    <tr style=\"text-align: right;\">\n",
       "      <th></th>\n",
       "      <th>clicked_epoch</th>\n",
       "      <th>uuid</th>\n",
       "      <th>date</th>\n",
       "      <th>price</th>\n",
       "      <th>product_id</th>\n",
       "      <th>category</th>\n",
       "    </tr>\n",
       "  </thead>\n",
       "  <tbody>\n",
       "    <tr>\n",
       "      <th>count</th>\n",
       "      <td>4.139130e+05</td>\n",
       "      <td>413913.000000</td>\n",
       "      <td>413913</td>\n",
       "      <td>413913.000000</td>\n",
       "      <td>413913.000000</td>\n",
       "      <td>413913</td>\n",
       "    </tr>\n",
       "    <tr>\n",
       "      <th>unique</th>\n",
       "      <td>NaN</td>\n",
       "      <td>NaN</td>\n",
       "      <td>594</td>\n",
       "      <td>NaN</td>\n",
       "      <td>NaN</td>\n",
       "      <td>302</td>\n",
       "    </tr>\n",
       "    <tr>\n",
       "      <th>top</th>\n",
       "      <td>NaN</td>\n",
       "      <td>NaN</td>\n",
       "      <td>2018-07-01</td>\n",
       "      <td>NaN</td>\n",
       "      <td>NaN</td>\n",
       "      <td>kurta &amp; kurtis</td>\n",
       "    </tr>\n",
       "    <tr>\n",
       "      <th>freq</th>\n",
       "      <td>NaN</td>\n",
       "      <td>NaN</td>\n",
       "      <td>5278</td>\n",
       "      <td>NaN</td>\n",
       "      <td>NaN</td>\n",
       "      <td>57114</td>\n",
       "    </tr>\n",
       "    <tr>\n",
       "      <th>mean</th>\n",
       "      <td>1.525372e+09</td>\n",
       "      <td>74061.149710</td>\n",
       "      <td>NaN</td>\n",
       "      <td>2142.091122</td>\n",
       "      <td>87214.981491</td>\n",
       "      <td>NaN</td>\n",
       "    </tr>\n",
       "    <tr>\n",
       "      <th>std</th>\n",
       "      <td>1.411330e+07</td>\n",
       "      <td>42856.196584</td>\n",
       "      <td>NaN</td>\n",
       "      <td>4826.469276</td>\n",
       "      <td>50157.359102</td>\n",
       "      <td>NaN</td>\n",
       "    </tr>\n",
       "    <tr>\n",
       "      <th>min</th>\n",
       "      <td>1.496273e+09</td>\n",
       "      <td>1.000000</td>\n",
       "      <td>NaN</td>\n",
       "      <td>-1.000000</td>\n",
       "      <td>1.000000</td>\n",
       "      <td>NaN</td>\n",
       "    </tr>\n",
       "    <tr>\n",
       "      <th>25%</th>\n",
       "      <td>1.514964e+09</td>\n",
       "      <td>37209.000000</td>\n",
       "      <td>NaN</td>\n",
       "      <td>517.650000</td>\n",
       "      <td>43913.000000</td>\n",
       "      <td>NaN</td>\n",
       "    </tr>\n",
       "    <tr>\n",
       "      <th>50%</th>\n",
       "      <td>1.528033e+09</td>\n",
       "      <td>73523.000000</td>\n",
       "      <td>NaN</td>\n",
       "      <td>879.600000</td>\n",
       "      <td>87694.000000</td>\n",
       "      <td>NaN</td>\n",
       "    </tr>\n",
       "    <tr>\n",
       "      <th>75%</th>\n",
       "      <td>1.536505e+09</td>\n",
       "      <td>111149.000000</td>\n",
       "      <td>NaN</td>\n",
       "      <td>1468.000000</td>\n",
       "      <td>131285.000000</td>\n",
       "      <td>NaN</td>\n",
       "    </tr>\n",
       "    <tr>\n",
       "      <th>max</th>\n",
       "      <td>1.547684e+09</td>\n",
       "      <td>148649.000000</td>\n",
       "      <td>NaN</td>\n",
       "      <td>250000.000000</td>\n",
       "      <td>173030.000000</td>\n",
       "      <td>NaN</td>\n",
       "    </tr>\n",
       "  </tbody>\n",
       "</table>\n",
       "</div>"
      ],
      "text/plain": [
       "        clicked_epoch           uuid        date          price  \\\n",
       "count    4.139130e+05  413913.000000      413913  413913.000000   \n",
       "unique            NaN            NaN         594            NaN   \n",
       "top               NaN            NaN  2018-07-01            NaN   \n",
       "freq              NaN            NaN        5278            NaN   \n",
       "mean     1.525372e+09   74061.149710         NaN    2142.091122   \n",
       "std      1.411330e+07   42856.196584         NaN    4826.469276   \n",
       "min      1.496273e+09       1.000000         NaN      -1.000000   \n",
       "25%      1.514964e+09   37209.000000         NaN     517.650000   \n",
       "50%      1.528033e+09   73523.000000         NaN     879.600000   \n",
       "75%      1.536505e+09  111149.000000         NaN    1468.000000   \n",
       "max      1.547684e+09  148649.000000         NaN  250000.000000   \n",
       "\n",
       "           product_id        category  \n",
       "count   413913.000000          413913  \n",
       "unique            NaN             302  \n",
       "top               NaN  kurta & kurtis  \n",
       "freq              NaN           57114  \n",
       "mean     87214.981491             NaN  \n",
       "std      50157.359102             NaN  \n",
       "min          1.000000             NaN  \n",
       "25%      43913.000000             NaN  \n",
       "50%      87694.000000             NaN  \n",
       "75%     131285.000000             NaN  \n",
       "max     173030.000000             NaN  "
      ]
     },
     "execution_count": 2,
     "metadata": {},
     "output_type": "execute_result"
    }
   ],
   "source": [
    "start = datetime.now()\n",
    "dataset=pd.read_csv('C:/Users/Sri/Desktop/New folder/ClickStream.csv')\n",
    "dataset.head(20)\n",
    "dataset.describe(include='all')"
   ]
  },
  {
   "cell_type": "code",
   "execution_count": 3,
   "metadata": {},
   "outputs": [
    {
     "data": {
      "text/plain": [
       "kurta & kurtis                57114\n",
       "tops and tees                 30557\n",
       "smart phones                  29155\n",
       "sandal                        24764\n",
       "t-shirts                      20763\n",
       "casual shirts                 17285\n",
       "casual dresses                17117\n",
       "shoe slip-on                  16820\n",
       "shoe lace - up                16678\n",
       "ethnic bottom                 13652\n",
       "jeans                         11981\n",
       "running                       11798\n",
       "sneaker                        8747\n",
       "sleepwear & robes              7486\n",
       "flip flop                      7410\n",
       "suit sets                      6386\n",
       "analog                         6066\n",
       "casual trousers                5194\n",
       "bras & bra sets                5138\n",
       "shoe                           5036\n",
       "boot                           4381\n",
       "casual tops & tees             3523\n",
       "in the ear                     3148\n",
       "pen drives                     3012\n",
       "shavers & trimmers             2896\n",
       "casual jackets and blazers     2878\n",
       "clog                           2737\n",
       "panties                        2656\n",
       "sweatshirts and hoodies        2313\n",
       "duppatta                       2069\n",
       "                              ...  \n",
       "instant cameras                   2\n",
       "diffusers                         2\n",
       "set top box                       2\n",
       "potpourri                         2\n",
       "dustbins                          2\n",
       "surge protectors and power        1\n",
       "soap dispensers                   1\n",
       "gaming                            1\n",
       "portable                          1\n",
       "cosmetic bags                     1\n",
       "combo sets                        1\n",
       "ipadair                           1\n",
       "baskets                           1\n",
       "organisers                        1\n",
       "gowns                             1\n",
       "mouse                             1\n",
       "surveillance                      1\n",
       "potlis                            1\n",
       "dome cameras                      1\n",
       "curtains                          1\n",
       "photo frames                      1\n",
       "scented candles                   1\n",
       "tower                             1\n",
       "bullet cameras                    1\n",
       "table cloth                       1\n",
       "keyboards                         1\n",
       "mugs                              1\n",
       "mirrors                           1\n",
       "straps & bands                    1\n",
       "washer dryer                      1\n",
       "Name: category, Length: 302, dtype: int64"
      ]
     },
     "execution_count": 3,
     "metadata": {},
     "output_type": "execute_result"
    }
   ],
   "source": [
    "dataset['category'].value_counts()"
   ]
  },
  {
   "cell_type": "code",
   "execution_count": 4,
   "metadata": {},
   "outputs": [
    {
     "data": {
      "text/plain": [
       "7     72691\n",
       "10    55887\n",
       "1     47277\n",
       "6     41319\n",
       "8     34537\n",
       "12    34385\n",
       "9     28699\n",
       "11    26946\n",
       "5     24171\n",
       "4     21520\n",
       "3     15083\n",
       "2     11398\n",
       "Name: month, dtype: int64"
      ]
     },
     "execution_count": 4,
     "metadata": {},
     "output_type": "execute_result"
    }
   ],
   "source": [
    "dataset['month']=pd.DatetimeIndex(dataset['date']).month\n",
    "dataset.head()     \n",
    "dataset['month'].value_counts()"
   ]
  },
  {
   "cell_type": "code",
   "execution_count": 5,
   "metadata": {},
   "outputs": [
    {
     "name": "stdout",
     "output_type": "stream",
     "text": [
      "Done.\n",
      "\n"
     ]
    },
    {
     "data": {
      "text/html": [
       "<div>\n",
       "<style scoped>\n",
       "    .dataframe tbody tr th:only-of-type {\n",
       "        vertical-align: middle;\n",
       "    }\n",
       "\n",
       "    .dataframe tbody tr th {\n",
       "        vertical-align: top;\n",
       "    }\n",
       "\n",
       "    .dataframe thead th {\n",
       "        text-align: right;\n",
       "    }\n",
       "</style>\n",
       "<table border=\"1\" class=\"dataframe\">\n",
       "  <thead>\n",
       "    <tr style=\"text-align: right;\">\n",
       "      <th></th>\n",
       "      <th>clicked_epoch</th>\n",
       "      <th>uuid</th>\n",
       "      <th>date</th>\n",
       "      <th>price</th>\n",
       "      <th>product_id</th>\n",
       "      <th>category</th>\n",
       "      <th>month</th>\n",
       "      <th>day_of_week</th>\n",
       "    </tr>\n",
       "  </thead>\n",
       "  <tbody>\n",
       "    <tr>\n",
       "      <th>413908</th>\n",
       "      <td>1.547680e+09</td>\n",
       "      <td>129381</td>\n",
       "      <td>2019-01-17</td>\n",
       "      <td>1421.00</td>\n",
       "      <td>11266</td>\n",
       "      <td>running</td>\n",
       "      <td>1</td>\n",
       "      <td>Thursday</td>\n",
       "    </tr>\n",
       "    <tr>\n",
       "      <th>413909</th>\n",
       "      <td>1.547682e+09</td>\n",
       "      <td>39989</td>\n",
       "      <td>2019-01-17</td>\n",
       "      <td>769.65</td>\n",
       "      <td>163335</td>\n",
       "      <td>skirts</td>\n",
       "      <td>1</td>\n",
       "      <td>Thursday</td>\n",
       "    </tr>\n",
       "    <tr>\n",
       "      <th>413910</th>\n",
       "      <td>1.547682e+09</td>\n",
       "      <td>39989</td>\n",
       "      <td>2019-01-17</td>\n",
       "      <td>769.65</td>\n",
       "      <td>99632</td>\n",
       "      <td>casual trousers</td>\n",
       "      <td>1</td>\n",
       "      <td>Thursday</td>\n",
       "    </tr>\n",
       "    <tr>\n",
       "      <th>413911</th>\n",
       "      <td>1.547682e+09</td>\n",
       "      <td>39989</td>\n",
       "      <td>2019-01-17</td>\n",
       "      <td>629.65</td>\n",
       "      <td>151744</td>\n",
       "      <td>tops and tees</td>\n",
       "      <td>1</td>\n",
       "      <td>Thursday</td>\n",
       "    </tr>\n",
       "    <tr>\n",
       "      <th>413912</th>\n",
       "      <td>1.547684e+09</td>\n",
       "      <td>46827</td>\n",
       "      <td>2019-01-17</td>\n",
       "      <td>799.00</td>\n",
       "      <td>39418</td>\n",
       "      <td>casual shirts</td>\n",
       "      <td>1</td>\n",
       "      <td>Thursday</td>\n",
       "    </tr>\n",
       "  </tbody>\n",
       "</table>\n",
       "</div>"
      ],
      "text/plain": [
       "        clicked_epoch    uuid       date    price  product_id  \\\n",
       "413908   1.547680e+09  129381 2019-01-17  1421.00       11266   \n",
       "413909   1.547682e+09   39989 2019-01-17   769.65      163335   \n",
       "413910   1.547682e+09   39989 2019-01-17   769.65       99632   \n",
       "413911   1.547682e+09   39989 2019-01-17   629.65      151744   \n",
       "413912   1.547684e+09   46827 2019-01-17   799.00       39418   \n",
       "\n",
       "               category  month day_of_week  \n",
       "413908          running      1    Thursday  \n",
       "413909           skirts      1    Thursday  \n",
       "413910  casual trousers      1    Thursday  \n",
       "413911    tops and tees      1    Thursday  \n",
       "413912    casual shirts      1    Thursday  "
      ]
     },
     "execution_count": 5,
     "metadata": {},
     "output_type": "execute_result"
    }
   ],
   "source": [
    "dataset.date = pd.to_datetime(dataset.date)\n",
    "print('Done.\\n')\n",
    "dataset['day_of_week'] = dataset.date.dt.weekday_name\n",
    "\n",
    "dataset.tail()"
   ]
  },
  {
   "cell_type": "code",
   "execution_count": 48,
   "metadata": {},
   "outputs": [
    {
     "data": {
      "image/png": "[encoded data removed]",
      "text/plain": [
       "<Figure size 432x288 with 1 Axes>"
      ]
     },
     "metadata": {
      "needs_background": "light"
     },
     "output_type": "display_data"
    }
   ],
   "source": [
    "dataset['day_of_week'].value_counts().plot.bar()\n",
    "plt.title('no of products sold on a particular day of the week')\n",
    "plt.xlabel('weekday')\n",
    "plt.ylabel('no of products sold')\n",
    "plt.show()"
   ]
  },
  {
   "cell_type": "code",
   "execution_count": 49,
   "metadata": {},
   "outputs": [
    {
     "data": {
      "image/png": "[encoded data removed]",
      "text/plain": [
       "<Figure size 432x288 with 1 Axes>"
      ]
     },
     "metadata": {
      "needs_background": "light"
     },
     "output_type": "display_data"
    }
   ],
   "source": [
    "dataset['month'].value_counts().plot.bar()\n",
    "plt.title('no of products sold on a particular month')\n",
    "plt.xlabel('month')\n",
    "plt.ylabel('no of products sold')\n",
    "plt.show()"
   ]
  },
  {
   "cell_type": "code",
   "execution_count": 6,
   "metadata": {},
   "outputs": [
    {
     "data": {
      "text/plain": [
       "2616.6473656187113"
      ]
     },
     "execution_count": 6,
     "metadata": {},
     "output_type": "execute_result"
    }
   ],
   "source": [
    "a=dataset[dataset['month']==1]['price'].mean()\n",
    "b=dataset[dataset['month']==2]['price'].mean()\n",
    "c=dataset[dataset['month']==3]['price'].mean()\n",
    "d=dataset[dataset['month']==4]['price'].mean()\n",
    "e=dataset[dataset['month']==5]['price'].mean()\n",
    "f=dataset[dataset['month']==6]['price'].mean()\n",
    "g=dataset[dataset['month']==7]['price'].mean()\n",
    "h=dataset[dataset['month']==8]['price'].mean()\n",
    "i=dataset[dataset['month']==9]['price'].mean()\n",
    "j=dataset[dataset['month']==10]['price'].mean()\n",
    "k=dataset[dataset['month']==11]['price'].mean()\n",
    "l=dataset[dataset['month']==12]['price'].mean()\n",
    "f"
   ]
  },
  {
   "cell_type": "code",
   "execution_count": 7,
   "metadata": {},
   "outputs": [
    {
     "data": {
      "text/html": [
       "<div>\n",
       "<style scoped>\n",
       "    .dataframe tbody tr th:only-of-type {\n",
       "        vertical-align: middle;\n",
       "    }\n",
       "\n",
       "    .dataframe tbody tr th {\n",
       "        vertical-align: top;\n",
       "    }\n",
       "\n",
       "    .dataframe thead th {\n",
       "        text-align: right;\n",
       "    }\n",
       "</style>\n",
       "<table border=\"1\" class=\"dataframe\">\n",
       "  <thead>\n",
       "    <tr style=\"text-align: right;\">\n",
       "      <th></th>\n",
       "      <th>clicked_epoch</th>\n",
       "      <th>uuid</th>\n",
       "      <th>date</th>\n",
       "      <th>price</th>\n",
       "      <th>product_id</th>\n",
       "      <th>category</th>\n",
       "      <th>month</th>\n",
       "      <th>day_of_week</th>\n",
       "      <th>mean_pp</th>\n",
       "    </tr>\n",
       "  </thead>\n",
       "  <tbody>\n",
       "    <tr>\n",
       "      <th>0</th>\n",
       "      <td>1.496273e+09</td>\n",
       "      <td>110971</td>\n",
       "      <td>2017-06-01</td>\n",
       "      <td>599.5</td>\n",
       "      <td>122712</td>\n",
       "      <td>kurta &amp; kurtis</td>\n",
       "      <td>6</td>\n",
       "      <td>Thursday</td>\n",
       "      <td>2616.647366</td>\n",
       "    </tr>\n",
       "    <tr>\n",
       "      <th>1</th>\n",
       "      <td>1.496273e+09</td>\n",
       "      <td>110971</td>\n",
       "      <td>2017-06-01</td>\n",
       "      <td>599.5</td>\n",
       "      <td>3453</td>\n",
       "      <td>kurta &amp; kurtis</td>\n",
       "      <td>6</td>\n",
       "      <td>Thursday</td>\n",
       "      <td>2616.647366</td>\n",
       "    </tr>\n",
       "    <tr>\n",
       "      <th>2</th>\n",
       "      <td>1.496276e+09</td>\n",
       "      <td>49864</td>\n",
       "      <td>2017-06-01</td>\n",
       "      <td>1349.1</td>\n",
       "      <td>13610</td>\n",
       "      <td>jeans</td>\n",
       "      <td>6</td>\n",
       "      <td>Thursday</td>\n",
       "      <td>2616.647366</td>\n",
       "    </tr>\n",
       "    <tr>\n",
       "      <th>3</th>\n",
       "      <td>1.496277e+09</td>\n",
       "      <td>49864</td>\n",
       "      <td>2017-06-01</td>\n",
       "      <td>1124.1</td>\n",
       "      <td>48309</td>\n",
       "      <td>jeans</td>\n",
       "      <td>6</td>\n",
       "      <td>Thursday</td>\n",
       "      <td>2616.647366</td>\n",
       "    </tr>\n",
       "    <tr>\n",
       "      <th>4</th>\n",
       "      <td>1.496280e+09</td>\n",
       "      <td>21453</td>\n",
       "      <td>2017-06-01</td>\n",
       "      <td>999.0</td>\n",
       "      <td>133239</td>\n",
       "      <td>kurta &amp; kurtis</td>\n",
       "      <td>6</td>\n",
       "      <td>Thursday</td>\n",
       "      <td>2616.647366</td>\n",
       "    </tr>\n",
       "  </tbody>\n",
       "</table>\n",
       "</div>"
      ],
      "text/plain": [
       "   clicked_epoch    uuid       date   price  product_id        category  \\\n",
       "0   1.496273e+09  110971 2017-06-01   599.5      122712  kurta & kurtis   \n",
       "1   1.496273e+09  110971 2017-06-01   599.5        3453  kurta & kurtis   \n",
       "2   1.496276e+09   49864 2017-06-01  1349.1       13610           jeans   \n",
       "3   1.496277e+09   49864 2017-06-01  1124.1       48309           jeans   \n",
       "4   1.496280e+09   21453 2017-06-01   999.0      133239  kurta & kurtis   \n",
       "\n",
       "   month day_of_week      mean_pp  \n",
       "0      6    Thursday  2616.647366  \n",
       "1      6    Thursday  2616.647366  \n",
       "2      6    Thursday  2616.647366  \n",
       "3      6    Thursday  2616.647366  \n",
       "4      6    Thursday  2616.647366  "
      ]
     },
     "execution_count": 7,
     "metadata": {},
     "output_type": "execute_result"
    }
   ],
   "source": [
    "dataset['mean_pp']=[a if x==1   else b if x==2 else c if x==3 else d if x==4 else e if x==5 \n",
    "                    else f if x==6 else g if x==7 else h if x==8 else i if x==9\n",
    "                    else j if x==10 else k if x==11 else l for x in dataset['month']]\n",
    "dataset.head()\n",
    "\n",
    "\n"
   ]
  },
  {
   "cell_type": "code",
   "execution_count": 8,
   "metadata": {},
   "outputs": [
    {
     "data": {
      "text/plain": [
       "1325.037725    72691\n",
       "2905.892507    55887\n",
       "1308.645973    47277\n",
       "2616.647366    41319\n",
       "2715.843475    34537\n",
       "2283.090133    34385\n",
       "2497.154682    28699\n",
       "2141.184821    26946\n",
       "2304.007550    24171\n",
       "2148.444764    21520\n",
       "2192.974505    15083\n",
       "1865.997693    11398\n",
       "Name: mean_pp, dtype: int64"
      ]
     },
     "execution_count": 8,
     "metadata": {},
     "output_type": "execute_result"
    }
   ],
   "source": [
    "dataset.mean_pp.value_counts()"
   ]
  },
  {
   "cell_type": "code",
   "execution_count": 53,
   "metadata": {},
   "outputs": [
    {
     "data": {
      "image/png": "[encoded data removed]",
      "text/plain": [
       "<Figure size 432x288 with 1 Axes>"
      ]
     },
     "metadata": {
      "needs_background": "light"
     },
     "output_type": "display_data"
    }
   ],
   "source": [
    "sns.barplot(x='month',y='mean_pp',data=dataset)\n",
    "plt.xlabel('month number')\n",
    "plt.ylabel('the mean price of an item bought ')\n",
    "plt.title('mean price spent every month ')\n",
    "plt.show()"
   ]
  },
  {
   "cell_type": "code",
   "execution_count": 9,
   "metadata": {},
   "outputs": [
    {
     "data": {
      "text/plain": [
       "108117252.5"
      ]
     },
     "execution_count": 9,
     "metadata": {},
     "output_type": "execute_result"
    }
   ],
   "source": [
    "a=dataset[dataset['month']==1]['price'].sum()\n",
    "b=dataset[dataset['month']==2]['price'].sum()\n",
    "c=dataset[dataset['month']==3]['price'].sum()\n",
    "d=dataset[dataset['month']==4]['price'].sum()\n",
    "e=dataset[dataset['month']==5]['price'].sum()\n",
    "f=dataset[dataset['month']==6]['price'].sum()\n",
    "g=dataset[dataset['month']==7]['price'].sum()\n",
    "h=dataset[dataset['month']==8]['price'].sum()\n",
    "i=dataset[dataset['month']==9]['price'].sum()\n",
    "j=dataset[dataset['month']==10]['price'].sum()\n",
    "k=dataset[dataset['month']==11]['price'].sum()\n",
    "l=dataset[dataset['month']==12]['price'].sum()\n",
    "f"
   ]
  },
  {
   "cell_type": "code",
   "execution_count": 10,
   "metadata": {},
   "outputs": [
    {
     "data": {
      "text/html": [
       "<div>\n",
       "<style scoped>\n",
       "    .dataframe tbody tr th:only-of-type {\n",
       "        vertical-align: middle;\n",
       "    }\n",
       "\n",
       "    .dataframe tbody tr th {\n",
       "        vertical-align: top;\n",
       "    }\n",
       "\n",
       "    .dataframe thead th {\n",
       "        text-align: right;\n",
       "    }\n",
       "</style>\n",
       "<table border=\"1\" class=\"dataframe\">\n",
       "  <thead>\n",
       "    <tr style=\"text-align: right;\">\n",
       "      <th></th>\n",
       "      <th>clicked_epoch</th>\n",
       "      <th>uuid</th>\n",
       "      <th>date</th>\n",
       "      <th>price</th>\n",
       "      <th>product_id</th>\n",
       "      <th>category</th>\n",
       "      <th>month</th>\n",
       "      <th>day_of_week</th>\n",
       "      <th>mean_pp</th>\n",
       "      <th>income per month</th>\n",
       "    </tr>\n",
       "  </thead>\n",
       "  <tbody>\n",
       "    <tr>\n",
       "      <th>0</th>\n",
       "      <td>1.496273e+09</td>\n",
       "      <td>110971</td>\n",
       "      <td>2017-06-01</td>\n",
       "      <td>599.5</td>\n",
       "      <td>122712</td>\n",
       "      <td>kurta &amp; kurtis</td>\n",
       "      <td>6</td>\n",
       "      <td>Thursday</td>\n",
       "      <td>2616.647366</td>\n",
       "      <td>108117252.5</td>\n",
       "    </tr>\n",
       "    <tr>\n",
       "      <th>1</th>\n",
       "      <td>1.496273e+09</td>\n",
       "      <td>110971</td>\n",
       "      <td>2017-06-01</td>\n",
       "      <td>599.5</td>\n",
       "      <td>3453</td>\n",
       "      <td>kurta &amp; kurtis</td>\n",
       "      <td>6</td>\n",
       "      <td>Thursday</td>\n",
       "      <td>2616.647366</td>\n",
       "      <td>108117252.5</td>\n",
       "    </tr>\n",
       "    <tr>\n",
       "      <th>2</th>\n",
       "      <td>1.496276e+09</td>\n",
       "      <td>49864</td>\n",
       "      <td>2017-06-01</td>\n",
       "      <td>1349.1</td>\n",
       "      <td>13610</td>\n",
       "      <td>jeans</td>\n",
       "      <td>6</td>\n",
       "      <td>Thursday</td>\n",
       "      <td>2616.647366</td>\n",
       "      <td>108117252.5</td>\n",
       "    </tr>\n",
       "    <tr>\n",
       "      <th>3</th>\n",
       "      <td>1.496277e+09</td>\n",
       "      <td>49864</td>\n",
       "      <td>2017-06-01</td>\n",
       "      <td>1124.1</td>\n",
       "      <td>48309</td>\n",
       "      <td>jeans</td>\n",
       "      <td>6</td>\n",
       "      <td>Thursday</td>\n",
       "      <td>2616.647366</td>\n",
       "      <td>108117252.5</td>\n",
       "    </tr>\n",
       "    <tr>\n",
       "      <th>4</th>\n",
       "      <td>1.496280e+09</td>\n",
       "      <td>21453</td>\n",
       "      <td>2017-06-01</td>\n",
       "      <td>999.0</td>\n",
       "      <td>133239</td>\n",
       "      <td>kurta &amp; kurtis</td>\n",
       "      <td>6</td>\n",
       "      <td>Thursday</td>\n",
       "      <td>2616.647366</td>\n",
       "      <td>108117252.5</td>\n",
       "    </tr>\n",
       "  </tbody>\n",
       "</table>\n",
       "</div>"
      ],
      "text/plain": [
       "   clicked_epoch    uuid       date   price  product_id        category  \\\n",
       "0   1.496273e+09  110971 2017-06-01   599.5      122712  kurta & kurtis   \n",
       "1   1.496273e+09  110971 2017-06-01   599.5        3453  kurta & kurtis   \n",
       "2   1.496276e+09   49864 2017-06-01  1349.1       13610           jeans   \n",
       "3   1.496277e+09   49864 2017-06-01  1124.1       48309           jeans   \n",
       "4   1.496280e+09   21453 2017-06-01   999.0      133239  kurta & kurtis   \n",
       "\n",
       "   month day_of_week      mean_pp  income per month  \n",
       "0      6    Thursday  2616.647366       108117252.5  \n",
       "1      6    Thursday  2616.647366       108117252.5  \n",
       "2      6    Thursday  2616.647366       108117252.5  \n",
       "3      6    Thursday  2616.647366       108117252.5  \n",
       "4      6    Thursday  2616.647366       108117252.5  "
      ]
     },
     "execution_count": 10,
     "metadata": {},
     "output_type": "execute_result"
    }
   ],
   "source": [
    "dataset['income per month']=[a if x==1   else b if x==2 else c if x==3 else d if x==4 else e if x==5 \n",
    "                    else f if x==6 else g if x==7 else h if x==8 else i if x==9\n",
    "                    else j if x==10 else k if x==11 else l for x in dataset['month']]\n",
    "dataset.head()\n"
   ]
  },
  {
   "cell_type": "code",
   "execution_count": 56,
   "metadata": {},
   "outputs": [],
   "source": [
    "def human(num, units = 'M'):\n",
    "    units = units.lower()\n",
    "    num = float(num)\n",
    "    if units == 'k':\n",
    "        return str(num/10**3) + \" K\"\n",
    "    elif units == 'm':\n",
    "        return str(num/10**6) + \" M\"\n",
    "    elif units == 'b':\n",
    "        return str(num/10**9) +  \" B\""
   ]
  },
  {
   "cell_type": "code",
   "execution_count": 14,
   "metadata": {},
   "outputs": [
    {
     "data": {
      "image/png": "[encoded data removed]",
      "text/plain": [
       "<Figure size 432x288 with 1 Axes>"
      ]
     },
     "metadata": {
      "needs_background": "light"
     },
     "output_type": "display_data"
    }
   ],
   "source": [
    "ax=sns.barplot(x='month',y='income per month',data=dataset)\n",
    "ax.set_xlabel('month ')\n",
    "ax.set_ylabel('INCOME')\n",
    "ax.set_yticklabels([human(item, 'M') for item in ax.get_yticks()])\n",
    "plt.title('income per month')\n",
    "plt.show()"
   ]
  },
  {
   "cell_type": "code",
   "execution_count": 12,
   "metadata": {},
   "outputs": [],
   "source": [
    "a=dataset[dataset['day_of_week']==1]['price'].sum()\n",
    "b=dataset[dataset['day_of_week']==2]['price'].sum()\n",
    "c=dataset[dataset['day_of_week']==3]['price'].sum()\n",
    "d=dataset[dataset['day_of_week']==4]['price'].sum()\n",
    "e=dataset[dataset['day_of_week']==5]['price'].sum()\n",
    "f=dataset[dataset['day_of_week']==6]['price'].sum()\n",
    "g=dataset[dataset['day_of_week']==0]['price'].sum()\n",
    "#print(datetime.now()-start)\n"
   ]
  },
  {
   "cell_type": "code",
   "execution_count": 11,
   "metadata": {},
   "outputs": [
    {
     "data": {
      "text/html": [
       "<div>\n",
       "<style scoped>\n",
       "    .dataframe tbody tr th:only-of-type {\n",
       "        vertical-align: middle;\n",
       "    }\n",
       "\n",
       "    .dataframe tbody tr th {\n",
       "        vertical-align: top;\n",
       "    }\n",
       "\n",
       "    .dataframe thead th {\n",
       "        text-align: right;\n",
       "    }\n",
       "</style>\n",
       "<table border=\"1\" class=\"dataframe\">\n",
       "  <thead>\n",
       "    <tr style=\"text-align: right;\">\n",
       "      <th></th>\n",
       "      <th>clicked_epoch</th>\n",
       "      <th>uuid</th>\n",
       "      <th>date</th>\n",
       "      <th>price</th>\n",
       "      <th>product_id</th>\n",
       "      <th>category</th>\n",
       "      <th>month</th>\n",
       "      <th>day_of_week</th>\n",
       "      <th>mean_pp</th>\n",
       "      <th>income per month</th>\n",
       "    </tr>\n",
       "  </thead>\n",
       "  <tbody>\n",
       "    <tr>\n",
       "      <th>0</th>\n",
       "      <td>1.496273e+09</td>\n",
       "      <td>110971</td>\n",
       "      <td>2017-06-01</td>\n",
       "      <td>599.5</td>\n",
       "      <td>122712</td>\n",
       "      <td>kurta &amp; kurtis</td>\n",
       "      <td>6</td>\n",
       "      <td>4</td>\n",
       "      <td>2616.647366</td>\n",
       "      <td>108117252.5</td>\n",
       "    </tr>\n",
       "    <tr>\n",
       "      <th>1</th>\n",
       "      <td>1.496273e+09</td>\n",
       "      <td>110971</td>\n",
       "      <td>2017-06-01</td>\n",
       "      <td>599.5</td>\n",
       "      <td>3453</td>\n",
       "      <td>kurta &amp; kurtis</td>\n",
       "      <td>6</td>\n",
       "      <td>4</td>\n",
       "      <td>2616.647366</td>\n",
       "      <td>108117252.5</td>\n",
       "    </tr>\n",
       "    <tr>\n",
       "      <th>2</th>\n",
       "      <td>1.496276e+09</td>\n",
       "      <td>49864</td>\n",
       "      <td>2017-06-01</td>\n",
       "      <td>1349.1</td>\n",
       "      <td>13610</td>\n",
       "      <td>jeans</td>\n",
       "      <td>6</td>\n",
       "      <td>4</td>\n",
       "      <td>2616.647366</td>\n",
       "      <td>108117252.5</td>\n",
       "    </tr>\n",
       "    <tr>\n",
       "      <th>3</th>\n",
       "      <td>1.496277e+09</td>\n",
       "      <td>49864</td>\n",
       "      <td>2017-06-01</td>\n",
       "      <td>1124.1</td>\n",
       "      <td>48309</td>\n",
       "      <td>jeans</td>\n",
       "      <td>6</td>\n",
       "      <td>4</td>\n",
       "      <td>2616.647366</td>\n",
       "      <td>108117252.5</td>\n",
       "    </tr>\n",
       "    <tr>\n",
       "      <th>4</th>\n",
       "      <td>1.496280e+09</td>\n",
       "      <td>21453</td>\n",
       "      <td>2017-06-01</td>\n",
       "      <td>999.0</td>\n",
       "      <td>133239</td>\n",
       "      <td>kurta &amp; kurtis</td>\n",
       "      <td>6</td>\n",
       "      <td>4</td>\n",
       "      <td>2616.647366</td>\n",
       "      <td>108117252.5</td>\n",
       "    </tr>\n",
       "    <tr>\n",
       "      <th>5</th>\n",
       "      <td>1.496281e+09</td>\n",
       "      <td>120631</td>\n",
       "      <td>2017-06-01</td>\n",
       "      <td>999.0</td>\n",
       "      <td>78375</td>\n",
       "      <td>kurta &amp; kurtis</td>\n",
       "      <td>6</td>\n",
       "      <td>4</td>\n",
       "      <td>2616.647366</td>\n",
       "      <td>108117252.5</td>\n",
       "    </tr>\n",
       "    <tr>\n",
       "      <th>6</th>\n",
       "      <td>1.496281e+09</td>\n",
       "      <td>120631</td>\n",
       "      <td>2017-06-01</td>\n",
       "      <td>999.0</td>\n",
       "      <td>62607</td>\n",
       "      <td>kurta &amp; kurtis</td>\n",
       "      <td>6</td>\n",
       "      <td>4</td>\n",
       "      <td>2616.647366</td>\n",
       "      <td>108117252.5</td>\n",
       "    </tr>\n",
       "    <tr>\n",
       "      <th>7</th>\n",
       "      <td>1.496282e+09</td>\n",
       "      <td>96665</td>\n",
       "      <td>2017-06-01</td>\n",
       "      <td>1598.0</td>\n",
       "      <td>15687</td>\n",
       "      <td>shoe slip-on</td>\n",
       "      <td>6</td>\n",
       "      <td>4</td>\n",
       "      <td>2616.647366</td>\n",
       "      <td>108117252.5</td>\n",
       "    </tr>\n",
       "    <tr>\n",
       "      <th>8</th>\n",
       "      <td>1.496282e+09</td>\n",
       "      <td>87080</td>\n",
       "      <td>2017-06-01</td>\n",
       "      <td>998.0</td>\n",
       "      <td>117648</td>\n",
       "      <td>sandal</td>\n",
       "      <td>6</td>\n",
       "      <td>4</td>\n",
       "      <td>2616.647366</td>\n",
       "      <td>108117252.5</td>\n",
       "    </tr>\n",
       "    <tr>\n",
       "      <th>9</th>\n",
       "      <td>1.496282e+09</td>\n",
       "      <td>124729</td>\n",
       "      <td>2017-06-01</td>\n",
       "      <td>1278.0</td>\n",
       "      <td>168551</td>\n",
       "      <td>shoe lace - up</td>\n",
       "      <td>6</td>\n",
       "      <td>4</td>\n",
       "      <td>2616.647366</td>\n",
       "      <td>108117252.5</td>\n",
       "    </tr>\n",
       "  </tbody>\n",
       "</table>\n",
       "</div>"
      ],
      "text/plain": [
       "   clicked_epoch    uuid       date   price  product_id        category  \\\n",
       "0   1.496273e+09  110971 2017-06-01   599.5      122712  kurta & kurtis   \n",
       "1   1.496273e+09  110971 2017-06-01   599.5        3453  kurta & kurtis   \n",
       "2   1.496276e+09   49864 2017-06-01  1349.1       13610           jeans   \n",
       "3   1.496277e+09   49864 2017-06-01  1124.1       48309           jeans   \n",
       "4   1.496280e+09   21453 2017-06-01   999.0      133239  kurta & kurtis   \n",
       "5   1.496281e+09  120631 2017-06-01   999.0       78375  kurta & kurtis   \n",
       "6   1.496281e+09  120631 2017-06-01   999.0       62607  kurta & kurtis   \n",
       "7   1.496282e+09   96665 2017-06-01  1598.0       15687    shoe slip-on   \n",
       "8   1.496282e+09   87080 2017-06-01   998.0      117648          sandal   \n",
       "9   1.496282e+09  124729 2017-06-01  1278.0      168551  shoe lace - up   \n",
       "\n",
       "   month  day_of_week      mean_pp  income per month  \n",
       "0      6            4  2616.647366       108117252.5  \n",
       "1      6            4  2616.647366       108117252.5  \n",
       "2      6            4  2616.647366       108117252.5  \n",
       "3      6            4  2616.647366       108117252.5  \n",
       "4      6            4  2616.647366       108117252.5  \n",
       "5      6            4  2616.647366       108117252.5  \n",
       "6      6            4  2616.647366       108117252.5  \n",
       "7      6            4  2616.647366       108117252.5  \n",
       "8      6            4  2616.647366       108117252.5  \n",
       "9      6            4  2616.647366       108117252.5  "
      ]
     },
     "execution_count": 11,
     "metadata": {},
     "output_type": "execute_result"
    }
   ],
   "source": [
    "from sklearn.preprocessing import LabelEncoder\n",
    "lr=LabelEncoder()\n",
    "dataset['day_of_week']=lr.fit_transform(dataset['day_of_week'])\n",
    "dataset.head(10)"
   ]
  },
  {
   "cell_type": "code",
   "execution_count": 13,
   "metadata": {},
   "outputs": [
    {
     "data": {
      "text/html": [
       "<div>\n",
       "<style scoped>\n",
       "    .dataframe tbody tr th:only-of-type {\n",
       "        vertical-align: middle;\n",
       "    }\n",
       "\n",
       "    .dataframe tbody tr th {\n",
       "        vertical-align: top;\n",
       "    }\n",
       "\n",
       "    .dataframe thead th {\n",
       "        text-align: right;\n",
       "    }\n",
       "</style>\n",
       "<table border=\"1\" class=\"dataframe\">\n",
       "  <thead>\n",
       "    <tr style=\"text-align: right;\">\n",
       "      <th></th>\n",
       "      <th>clicked_epoch</th>\n",
       "      <th>uuid</th>\n",
       "      <th>date</th>\n",
       "      <th>price</th>\n",
       "      <th>product_id</th>\n",
       "      <th>category</th>\n",
       "      <th>month</th>\n",
       "      <th>day_of_week</th>\n",
       "      <th>mean_pp</th>\n",
       "      <th>income per month</th>\n",
       "      <th>income per week_day</th>\n",
       "    </tr>\n",
       "  </thead>\n",
       "  <tbody>\n",
       "    <tr>\n",
       "      <th>0</th>\n",
       "      <td>1.496273e+09</td>\n",
       "      <td>110971</td>\n",
       "      <td>2017-06-01</td>\n",
       "      <td>599.5</td>\n",
       "      <td>122712</td>\n",
       "      <td>kurta &amp; kurtis</td>\n",
       "      <td>6</td>\n",
       "      <td>4</td>\n",
       "      <td>2616.647366</td>\n",
       "      <td>108117252.5</td>\n",
       "      <td>132114861.9</td>\n",
       "    </tr>\n",
       "    <tr>\n",
       "      <th>1</th>\n",
       "      <td>1.496273e+09</td>\n",
       "      <td>110971</td>\n",
       "      <td>2017-06-01</td>\n",
       "      <td>599.5</td>\n",
       "      <td>3453</td>\n",
       "      <td>kurta &amp; kurtis</td>\n",
       "      <td>6</td>\n",
       "      <td>4</td>\n",
       "      <td>2616.647366</td>\n",
       "      <td>108117252.5</td>\n",
       "      <td>132114861.9</td>\n",
       "    </tr>\n",
       "    <tr>\n",
       "      <th>2</th>\n",
       "      <td>1.496276e+09</td>\n",
       "      <td>49864</td>\n",
       "      <td>2017-06-01</td>\n",
       "      <td>1349.1</td>\n",
       "      <td>13610</td>\n",
       "      <td>jeans</td>\n",
       "      <td>6</td>\n",
       "      <td>4</td>\n",
       "      <td>2616.647366</td>\n",
       "      <td>108117252.5</td>\n",
       "      <td>132114861.9</td>\n",
       "    </tr>\n",
       "    <tr>\n",
       "      <th>3</th>\n",
       "      <td>1.496277e+09</td>\n",
       "      <td>49864</td>\n",
       "      <td>2017-06-01</td>\n",
       "      <td>1124.1</td>\n",
       "      <td>48309</td>\n",
       "      <td>jeans</td>\n",
       "      <td>6</td>\n",
       "      <td>4</td>\n",
       "      <td>2616.647366</td>\n",
       "      <td>108117252.5</td>\n",
       "      <td>132114861.9</td>\n",
       "    </tr>\n",
       "    <tr>\n",
       "      <th>4</th>\n",
       "      <td>1.496280e+09</td>\n",
       "      <td>21453</td>\n",
       "      <td>2017-06-01</td>\n",
       "      <td>999.0</td>\n",
       "      <td>133239</td>\n",
       "      <td>kurta &amp; kurtis</td>\n",
       "      <td>6</td>\n",
       "      <td>4</td>\n",
       "      <td>2616.647366</td>\n",
       "      <td>108117252.5</td>\n",
       "      <td>132114861.9</td>\n",
       "    </tr>\n",
       "  </tbody>\n",
       "</table>\n",
       "</div>"
      ],
      "text/plain": [
       "   clicked_epoch    uuid       date   price  product_id        category  \\\n",
       "0   1.496273e+09  110971 2017-06-01   599.5      122712  kurta & kurtis   \n",
       "1   1.496273e+09  110971 2017-06-01   599.5        3453  kurta & kurtis   \n",
       "2   1.496276e+09   49864 2017-06-01  1349.1       13610           jeans   \n",
       "3   1.496277e+09   49864 2017-06-01  1124.1       48309           jeans   \n",
       "4   1.496280e+09   21453 2017-06-01   999.0      133239  kurta & kurtis   \n",
       "\n",
       "   month  day_of_week      mean_pp  income per month  income per week_day  \n",
       "0      6            4  2616.647366       108117252.5          132114861.9  \n",
       "1      6            4  2616.647366       108117252.5          132114861.9  \n",
       "2      6            4  2616.647366       108117252.5          132114861.9  \n",
       "3      6            4  2616.647366       108117252.5          132114861.9  \n",
       "4      6            4  2616.647366       108117252.5          132114861.9  "
      ]
     },
     "execution_count": 13,
     "metadata": {},
     "output_type": "execute_result"
    }
   ],
   "source": [
    "dataset['income per week_day']=[a if x==1   else b if x==2 else c if x==3 else d if x==4 else e if x==5 \n",
    "                    else f if x==6 else g for x in dataset['day_of_week']]\n",
    "dataset.head()\n"
   ]
  },
  {
   "cell_type": "code",
   "execution_count": 18,
   "metadata": {},
   "outputs": [
    {
     "data": {
      "image/png": "[encoded data removed]",
      "text/plain": [
       "<Figure size 432x288 with 1 Axes>"
      ]
     },
     "metadata": {
      "needs_background": "light"
     },
     "output_type": "display_data"
    }
   ],
   "source": [
    "ax=sns.barplot(x='day_of_week',y='income per week_day',data=dataset)\n",
    "ax.set_xlabel('weekday ')\n",
    "ax.set_ylabel('INCOME')\n",
    "ax.set_yticklabels([human(item, 'M') for item in ax.get_yticks()])\n",
    "plt.title('income per week day')\n",
    "plt.show()"
   ]
  },
  {
   "cell_type": "code",
   "execution_count": 14,
   "metadata": {},
   "outputs": [
    {
     "data": {
      "text/html": [
       "<div>\n",
       "<style scoped>\n",
       "    .dataframe tbody tr th:only-of-type {\n",
       "        vertical-align: middle;\n",
       "    }\n",
       "\n",
       "    .dataframe tbody tr th {\n",
       "        vertical-align: top;\n",
       "    }\n",
       "\n",
       "    .dataframe thead th {\n",
       "        text-align: right;\n",
       "    }\n",
       "</style>\n",
       "<table border=\"1\" class=\"dataframe\">\n",
       "  <thead>\n",
       "    <tr style=\"text-align: right;\">\n",
       "      <th></th>\n",
       "      <th>clicked_epoch</th>\n",
       "      <th>uuid</th>\n",
       "      <th>date</th>\n",
       "      <th>price</th>\n",
       "      <th>product_id</th>\n",
       "      <th>category</th>\n",
       "      <th>month</th>\n",
       "      <th>day_of_week</th>\n",
       "      <th>mean_pp</th>\n",
       "      <th>income per month</th>\n",
       "      <th>income per week_day</th>\n",
       "    </tr>\n",
       "  </thead>\n",
       "  <tbody>\n",
       "    <tr>\n",
       "      <th>0</th>\n",
       "      <td>1.496273e+09</td>\n",
       "      <td>110971</td>\n",
       "      <td>2017-06-01</td>\n",
       "      <td>599.5</td>\n",
       "      <td>122712</td>\n",
       "      <td>149</td>\n",
       "      <td>6</td>\n",
       "      <td>4</td>\n",
       "      <td>2616.647366</td>\n",
       "      <td>108117252.5</td>\n",
       "      <td>132114861.9</td>\n",
       "    </tr>\n",
       "    <tr>\n",
       "      <th>1</th>\n",
       "      <td>1.496273e+09</td>\n",
       "      <td>110971</td>\n",
       "      <td>2017-06-01</td>\n",
       "      <td>599.5</td>\n",
       "      <td>3453</td>\n",
       "      <td>149</td>\n",
       "      <td>6</td>\n",
       "      <td>4</td>\n",
       "      <td>2616.647366</td>\n",
       "      <td>108117252.5</td>\n",
       "      <td>132114861.9</td>\n",
       "    </tr>\n",
       "    <tr>\n",
       "      <th>2</th>\n",
       "      <td>1.496276e+09</td>\n",
       "      <td>49864</td>\n",
       "      <td>2017-06-01</td>\n",
       "      <td>1349.1</td>\n",
       "      <td>13610</td>\n",
       "      <td>138</td>\n",
       "      <td>6</td>\n",
       "      <td>4</td>\n",
       "      <td>2616.647366</td>\n",
       "      <td>108117252.5</td>\n",
       "      <td>132114861.9</td>\n",
       "    </tr>\n",
       "    <tr>\n",
       "      <th>3</th>\n",
       "      <td>1.496277e+09</td>\n",
       "      <td>49864</td>\n",
       "      <td>2017-06-01</td>\n",
       "      <td>1124.1</td>\n",
       "      <td>48309</td>\n",
       "      <td>138</td>\n",
       "      <td>6</td>\n",
       "      <td>4</td>\n",
       "      <td>2616.647366</td>\n",
       "      <td>108117252.5</td>\n",
       "      <td>132114861.9</td>\n",
       "    </tr>\n",
       "    <tr>\n",
       "      <th>4</th>\n",
       "      <td>1.496280e+09</td>\n",
       "      <td>21453</td>\n",
       "      <td>2017-06-01</td>\n",
       "      <td>999.0</td>\n",
       "      <td>133239</td>\n",
       "      <td>149</td>\n",
       "      <td>6</td>\n",
       "      <td>4</td>\n",
       "      <td>2616.647366</td>\n",
       "      <td>108117252.5</td>\n",
       "      <td>132114861.9</td>\n",
       "    </tr>\n",
       "  </tbody>\n",
       "</table>\n",
       "</div>"
      ],
      "text/plain": [
       "   clicked_epoch    uuid       date   price  product_id  category  month  \\\n",
       "0   1.496273e+09  110971 2017-06-01   599.5      122712       149      6   \n",
       "1   1.496273e+09  110971 2017-06-01   599.5        3453       149      6   \n",
       "2   1.496276e+09   49864 2017-06-01  1349.1       13610       138      6   \n",
       "3   1.496277e+09   49864 2017-06-01  1124.1       48309       138      6   \n",
       "4   1.496280e+09   21453 2017-06-01   999.0      133239       149      6   \n",
       "\n",
       "   day_of_week      mean_pp  income per month  income per week_day  \n",
       "0            4  2616.647366       108117252.5          132114861.9  \n",
       "1            4  2616.647366       108117252.5          132114861.9  \n",
       "2            4  2616.647366       108117252.5          132114861.9  \n",
       "3            4  2616.647366       108117252.5          132114861.9  \n",
       "4            4  2616.647366       108117252.5          132114861.9  "
      ]
     },
     "execution_count": 14,
     "metadata": {},
     "output_type": "execute_result"
    }
   ],
   "source": [
    "from sklearn.preprocessing import LabelEncoder\n",
    "lr=LabelEncoder()\n",
    "dataset['category']=lr.fit_transform(dataset['category'])\n",
    "dataset.head()"
   ]
  },
  {
   "cell_type": "code",
   "execution_count": 19,
   "metadata": {},
   "outputs": [
    {
     "ename": "ValueError",
     "evalue": "'a' must be greater than 0 unless no samples are taken",
     "output_type": "error",
     "traceback": [
      "\u001b[1;31m---------------------------------------------------------------------------\u001b[0m",
      "\u001b[1;31mValueError\u001b[0m                                Traceback (most recent call last)",
      "\u001b[1;32m<ipython-input-19-fbcf604317f1>\u001b[0m in \u001b[0;36m<module>\u001b[1;34m\u001b[0m\n\u001b[0;32m      1\u001b[0m \u001b[0mfinal\u001b[0m\u001b[1;33m=\u001b[0m \u001b[0mpd\u001b[0m\u001b[1;33m.\u001b[0m\u001b[0mSeries\u001b[0m\u001b[1;33m(\u001b[0m\u001b[1;33m)\u001b[0m\u001b[1;33m\u001b[0m\u001b[1;33m\u001b[0m\u001b[0m\n\u001b[0;32m      2\u001b[0m \u001b[1;32mfor\u001b[0m \u001b[0mi\u001b[0m \u001b[1;32min\u001b[0m \u001b[0mrange\u001b[0m\u001b[1;33m(\u001b[0m\u001b[1;36m303\u001b[0m\u001b[1;33m)\u001b[0m\u001b[1;33m:\u001b[0m\u001b[1;33m\u001b[0m\u001b[1;33m\u001b[0m\u001b[0m\n\u001b[1;32m----> 3\u001b[1;33m     \u001b[0mai\u001b[0m\u001b[1;33m=\u001b[0m\u001b[0mdataset\u001b[0m\u001b[1;33m[\u001b[0m\u001b[0mdataset\u001b[0m\u001b[1;33m[\u001b[0m\u001b[1;34m'category'\u001b[0m\u001b[1;33m]\u001b[0m\u001b[1;33m==\u001b[0m\u001b[0mi\u001b[0m\u001b[1;33m]\u001b[0m\u001b[1;33m.\u001b[0m\u001b[0msample\u001b[0m\u001b[1;33m(\u001b[0m\u001b[0mn\u001b[0m\u001b[1;33m=\u001b[0m\u001b[1;36m1\u001b[0m\u001b[1;33m)\u001b[0m\u001b[1;33m\u001b[0m\u001b[1;33m\u001b[0m\u001b[0m\n\u001b[0m\u001b[0;32m      4\u001b[0m     \u001b[0mfinal\u001b[0m\u001b[1;33m=\u001b[0m\u001b[0mpd\u001b[0m\u001b[1;33m.\u001b[0m\u001b[0mconcat\u001b[0m\u001b[1;33m(\u001b[0m\u001b[1;33m[\u001b[0m\u001b[0mai\u001b[0m\u001b[1;33m,\u001b[0m\u001b[0mfinal\u001b[0m\u001b[1;33m]\u001b[0m\u001b[1;33m)\u001b[0m\u001b[1;33m\u001b[0m\u001b[1;33m\u001b[0m\u001b[0m\n",
      "\u001b[1;32m~\\Anaconda3\\lib\\site-packages\\pandas\\core\\generic.py\u001b[0m in \u001b[0;36msample\u001b[1;34m(self, n, frac, replace, weights, random_state, axis)\u001b[0m\n\u001b[0;32m   4863\u001b[0m                              \"provide positive value.\")\n\u001b[0;32m   4864\u001b[0m \u001b[1;33m\u001b[0m\u001b[0m\n\u001b[1;32m-> 4865\u001b[1;33m         \u001b[0mlocs\u001b[0m \u001b[1;33m=\u001b[0m \u001b[0mrs\u001b[0m\u001b[1;33m.\u001b[0m\u001b[0mchoice\u001b[0m\u001b[1;33m(\u001b[0m\u001b[0maxis_length\u001b[0m\u001b[1;33m,\u001b[0m \u001b[0msize\u001b[0m\u001b[1;33m=\u001b[0m\u001b[0mn\u001b[0m\u001b[1;33m,\u001b[0m \u001b[0mreplace\u001b[0m\u001b[1;33m=\u001b[0m\u001b[0mreplace\u001b[0m\u001b[1;33m,\u001b[0m \u001b[0mp\u001b[0m\u001b[1;33m=\u001b[0m\u001b[0mweights\u001b[0m\u001b[1;33m)\u001b[0m\u001b[1;33m\u001b[0m\u001b[1;33m\u001b[0m\u001b[0m\n\u001b[0m\u001b[0;32m   4866\u001b[0m         \u001b[1;32mreturn\u001b[0m \u001b[0mself\u001b[0m\u001b[1;33m.\u001b[0m\u001b[0mtake\u001b[0m\u001b[1;33m(\u001b[0m\u001b[0mlocs\u001b[0m\u001b[1;33m,\u001b[0m \u001b[0maxis\u001b[0m\u001b[1;33m=\u001b[0m\u001b[0maxis\u001b[0m\u001b[1;33m,\u001b[0m \u001b[0mis_copy\u001b[0m\u001b[1;33m=\u001b[0m\u001b[1;32mFalse\u001b[0m\u001b[1;33m)\u001b[0m\u001b[1;33m\u001b[0m\u001b[1;33m\u001b[0m\u001b[0m\n\u001b[0;32m   4867\u001b[0m \u001b[1;33m\u001b[0m\u001b[0m\n",
      "\u001b[1;32mmtrand.pyx\u001b[0m in \u001b[0;36mmtrand.RandomState.choice\u001b[1;34m()\u001b[0m\n",
      "\u001b[1;31mValueError\u001b[0m: 'a' must be greater than 0 unless no samples are taken"
     ]
    }
   ],
   "source": [
    "final= pd.Series()\n",
    "for i in range(303):\n",
    "    ai=dataset[dataset['category']==i].sample(n=1)\n",
    "    final=pd.concat([ai,final])"
   ]
  },
  {
   "cell_type": "code",
   "execution_count": 39,
   "metadata": {},
   "outputs": [
    {
     "data": {
      "text/html": [
       "<div>\n",
       "<style scoped>\n",
       "    .dataframe tbody tr th:only-of-type {\n",
       "        vertical-align: middle;\n",
       "    }\n",
       "\n",
       "    .dataframe tbody tr th {\n",
       "        vertical-align: top;\n",
       "    }\n",
       "\n",
       "    .dataframe thead th {\n",
       "        text-align: right;\n",
       "    }\n",
       "</style>\n",
       "<table border=\"1\" class=\"dataframe\">\n",
       "  <thead>\n",
       "    <tr style=\"text-align: right;\">\n",
       "      <th></th>\n",
       "      <th>date</th>\n",
       "      <th>price</th>\n",
       "      <th>product_id</th>\n",
       "      <th>income per month</th>\n",
       "      <th>uuid</th>\n",
       "      <th>month</th>\n",
       "      <th>clicked_epoch</th>\n",
       "      <th>day_of_week</th>\n",
       "      <th>income per week_day</th>\n",
       "      <th>mean_pp</th>\n",
       "    </tr>\n",
       "  </thead>\n",
       "  <tbody>\n",
       "  </tbody>\n",
       "</table>\n",
       "</div>"
      ],
      "text/plain": [
       "Empty DataFrame\n",
       "Columns: [date, price, product_id, income per month, uuid, month, clicked_epoch, day_of_week, income per week_day, mean_pp]\n",
       "Index: []"
      ]
     },
     "execution_count": 39,
     "metadata": {},
     "output_type": "execute_result"
    }
   ],
   "source": [
    "zi.head()"
   ]
  },
  {
   "cell_type": "code",
   "execution_count": 18,
   "metadata": {},
   "outputs": [],
   "source": [
    "dataset=dataset.drop([\"uuid\"],axis=1)\n",
    "dataset=dataset.drop([\"product_id\"],axis=1)"
   ]
  },
  {
   "cell_type": "code",
   "execution_count": 19,
   "metadata": {},
   "outputs": [
    {
     "data": {
      "text/html": [
       "<div>\n",
       "<style scoped>\n",
       "    .dataframe tbody tr th:only-of-type {\n",
       "        vertical-align: middle;\n",
       "    }\n",
       "\n",
       "    .dataframe tbody tr th {\n",
       "        vertical-align: top;\n",
       "    }\n",
       "\n",
       "    .dataframe thead th {\n",
       "        text-align: right;\n",
       "    }\n",
       "</style>\n",
       "<table border=\"1\" class=\"dataframe\">\n",
       "  <thead>\n",
       "    <tr style=\"text-align: right;\">\n",
       "      <th></th>\n",
       "      <th>clicked_epoch</th>\n",
       "      <th>date</th>\n",
       "      <th>price</th>\n",
       "      <th>category</th>\n",
       "      <th>month</th>\n",
       "      <th>day_of_week</th>\n",
       "      <th>mean_pp</th>\n",
       "      <th>income per month</th>\n",
       "      <th>income per week_day</th>\n",
       "    </tr>\n",
       "  </thead>\n",
       "  <tbody>\n",
       "    <tr>\n",
       "      <th>0</th>\n",
       "      <td>1.496273e+09</td>\n",
       "      <td>2017-06-01</td>\n",
       "      <td>599.5</td>\n",
       "      <td>149</td>\n",
       "      <td>6</td>\n",
       "      <td>4</td>\n",
       "      <td>2616.647366</td>\n",
       "      <td>108117252.5</td>\n",
       "      <td>132114861.9</td>\n",
       "    </tr>\n",
       "    <tr>\n",
       "      <th>1</th>\n",
       "      <td>1.496273e+09</td>\n",
       "      <td>2017-06-01</td>\n",
       "      <td>599.5</td>\n",
       "      <td>149</td>\n",
       "      <td>6</td>\n",
       "      <td>4</td>\n",
       "      <td>2616.647366</td>\n",
       "      <td>108117252.5</td>\n",
       "      <td>132114861.9</td>\n",
       "    </tr>\n",
       "    <tr>\n",
       "      <th>2</th>\n",
       "      <td>1.496276e+09</td>\n",
       "      <td>2017-06-01</td>\n",
       "      <td>1349.1</td>\n",
       "      <td>138</td>\n",
       "      <td>6</td>\n",
       "      <td>4</td>\n",
       "      <td>2616.647366</td>\n",
       "      <td>108117252.5</td>\n",
       "      <td>132114861.9</td>\n",
       "    </tr>\n",
       "    <tr>\n",
       "      <th>3</th>\n",
       "      <td>1.496277e+09</td>\n",
       "      <td>2017-06-01</td>\n",
       "      <td>1124.1</td>\n",
       "      <td>138</td>\n",
       "      <td>6</td>\n",
       "      <td>4</td>\n",
       "      <td>2616.647366</td>\n",
       "      <td>108117252.5</td>\n",
       "      <td>132114861.9</td>\n",
       "    </tr>\n",
       "    <tr>\n",
       "      <th>4</th>\n",
       "      <td>1.496280e+09</td>\n",
       "      <td>2017-06-01</td>\n",
       "      <td>999.0</td>\n",
       "      <td>149</td>\n",
       "      <td>6</td>\n",
       "      <td>4</td>\n",
       "      <td>2616.647366</td>\n",
       "      <td>108117252.5</td>\n",
       "      <td>132114861.9</td>\n",
       "    </tr>\n",
       "  </tbody>\n",
       "</table>\n",
       "</div>"
      ],
      "text/plain": [
       "   clicked_epoch       date   price  category  month  day_of_week  \\\n",
       "0   1.496273e+09 2017-06-01   599.5       149      6            4   \n",
       "1   1.496273e+09 2017-06-01   599.5       149      6            4   \n",
       "2   1.496276e+09 2017-06-01  1349.1       138      6            4   \n",
       "3   1.496277e+09 2017-06-01  1124.1       138      6            4   \n",
       "4   1.496280e+09 2017-06-01   999.0       149      6            4   \n",
       "\n",
       "       mean_pp  income per month  income per week_day  \n",
       "0  2616.647366       108117252.5          132114861.9  \n",
       "1  2616.647366       108117252.5          132114861.9  \n",
       "2  2616.647366       108117252.5          132114861.9  \n",
       "3  2616.647366       108117252.5          132114861.9  \n",
       "4  2616.647366       108117252.5          132114861.9  "
      ]
     },
     "execution_count": 19,
     "metadata": {},
     "output_type": "execute_result"
    }
   ],
   "source": [
    "dataset.head()"
   ]
  },
  {
   "cell_type": "code",
   "execution_count": 23,
   "metadata": {},
   "outputs": [
    {
     "data": {
      "text/html": [
       "<div>\n",
       "<style scoped>\n",
       "    .dataframe tbody tr th:only-of-type {\n",
       "        vertical-align: middle;\n",
       "    }\n",
       "\n",
       "    .dataframe tbody tr th {\n",
       "        vertical-align: top;\n",
       "    }\n",
       "\n",
       "    .dataframe thead th {\n",
       "        text-align: right;\n",
       "    }\n",
       "</style>\n",
       "<table border=\"1\" class=\"dataframe\">\n",
       "  <thead>\n",
       "    <tr style=\"text-align: right;\">\n",
       "      <th></th>\n",
       "      <th>clicked_epoch</th>\n",
       "      <th>date</th>\n",
       "      <th>price</th>\n",
       "      <th>category</th>\n",
       "      <th>month</th>\n",
       "      <th>mean_pp</th>\n",
       "      <th>income per month</th>\n",
       "      <th>income per week_day</th>\n",
       "    </tr>\n",
       "  </thead>\n",
       "  <tbody>\n",
       "    <tr>\n",
       "      <th>413908</th>\n",
       "      <td>1.547680e+09</td>\n",
       "      <td>2019-01-17</td>\n",
       "      <td>1421.00</td>\n",
       "      <td>211</td>\n",
       "      <td>1</td>\n",
       "      <td>1308.645973</td>\n",
       "      <td>61868855.67</td>\n",
       "      <td>0.0</td>\n",
       "    </tr>\n",
       "    <tr>\n",
       "      <th>413909</th>\n",
       "      <td>1.547682e+09</td>\n",
       "      <td>2019-01-17</td>\n",
       "      <td>769.65</td>\n",
       "      <td>236</td>\n",
       "      <td>1</td>\n",
       "      <td>1308.645973</td>\n",
       "      <td>61868855.67</td>\n",
       "      <td>0.0</td>\n",
       "    </tr>\n",
       "    <tr>\n",
       "      <th>413910</th>\n",
       "      <td>1.547682e+09</td>\n",
       "      <td>2019-01-17</td>\n",
       "      <td>769.65</td>\n",
       "      <td>53</td>\n",
       "      <td>1</td>\n",
       "      <td>1308.645973</td>\n",
       "      <td>61868855.67</td>\n",
       "      <td>0.0</td>\n",
       "    </tr>\n",
       "    <tr>\n",
       "      <th>413911</th>\n",
       "      <td>1.547682e+09</td>\n",
       "      <td>2019-01-17</td>\n",
       "      <td>629.65</td>\n",
       "      <td>279</td>\n",
       "      <td>1</td>\n",
       "      <td>1308.645973</td>\n",
       "      <td>61868855.67</td>\n",
       "      <td>0.0</td>\n",
       "    </tr>\n",
       "    <tr>\n",
       "      <th>413912</th>\n",
       "      <td>1.547684e+09</td>\n",
       "      <td>2019-01-17</td>\n",
       "      <td>799.00</td>\n",
       "      <td>51</td>\n",
       "      <td>1</td>\n",
       "      <td>1308.645973</td>\n",
       "      <td>61868855.67</td>\n",
       "      <td>0.0</td>\n",
       "    </tr>\n",
       "  </tbody>\n",
       "</table>\n",
       "</div>"
      ],
      "text/plain": [
       "        clicked_epoch       date    price  category  month      mean_pp  \\\n",
       "413908   1.547680e+09 2019-01-17  1421.00       211      1  1308.645973   \n",
       "413909   1.547682e+09 2019-01-17   769.65       236      1  1308.645973   \n",
       "413910   1.547682e+09 2019-01-17   769.65        53      1  1308.645973   \n",
       "413911   1.547682e+09 2019-01-17   629.65       279      1  1308.645973   \n",
       "413912   1.547684e+09 2019-01-17   799.00        51      1  1308.645973   \n",
       "\n",
       "        income per month  income per week_day  \n",
       "413908       61868855.67                  0.0  \n",
       "413909       61868855.67                  0.0  \n",
       "413910       61868855.67                  0.0  \n",
       "413911       61868855.67                  0.0  \n",
       "413912       61868855.67                  0.0  "
      ]
     },
     "execution_count": 23,
     "metadata": {},
     "output_type": "execute_result"
    }
   ],
   "source": [
    "#dataset=dataset.drop(['date'],axis=1)\n",
    "#dataset.tail()\n",
    "dataset=dataset.drop(['day_of_week'],axis=1)\n",
    "dataset.tail()\n",
    "\n"
   ]
  },
  {
   "cell_type": "code",
   "execution_count": 22,
   "metadata": {},
   "outputs": [
    {
     "data": {
      "text/html": [
       "<div>\n",
       "<style scoped>\n",
       "    .dataframe tbody tr th:only-of-type {\n",
       "        vertical-align: middle;\n",
       "    }\n",
       "\n",
       "    .dataframe tbody tr th {\n",
       "        vertical-align: top;\n",
       "    }\n",
       "\n",
       "    .dataframe thead th {\n",
       "        text-align: right;\n",
       "    }\n",
       "</style>\n",
       "<table border=\"1\" class=\"dataframe\">\n",
       "  <thead>\n",
       "    <tr style=\"text-align: right;\">\n",
       "      <th></th>\n",
       "      <th>clicked_epoch</th>\n",
       "      <th>date</th>\n",
       "      <th>price</th>\n",
       "      <th>category</th>\n",
       "      <th>month</th>\n",
       "      <th>day_of_week</th>\n",
       "      <th>income per month</th>\n",
       "      <th>income per week_day</th>\n",
       "    </tr>\n",
       "  </thead>\n",
       "  <tbody>\n",
       "    <tr>\n",
       "      <th>0</th>\n",
       "      <td>1.496273e+09</td>\n",
       "      <td>2017-06-01</td>\n",
       "      <td>599.5</td>\n",
       "      <td>149</td>\n",
       "      <td>6</td>\n",
       "      <td>4</td>\n",
       "      <td>108117252.5</td>\n",
       "      <td>132114861.9</td>\n",
       "    </tr>\n",
       "    <tr>\n",
       "      <th>1</th>\n",
       "      <td>1.496273e+09</td>\n",
       "      <td>2017-06-01</td>\n",
       "      <td>599.5</td>\n",
       "      <td>149</td>\n",
       "      <td>6</td>\n",
       "      <td>4</td>\n",
       "      <td>108117252.5</td>\n",
       "      <td>132114861.9</td>\n",
       "    </tr>\n",
       "    <tr>\n",
       "      <th>2</th>\n",
       "      <td>1.496276e+09</td>\n",
       "      <td>2017-06-01</td>\n",
       "      <td>1349.1</td>\n",
       "      <td>138</td>\n",
       "      <td>6</td>\n",
       "      <td>4</td>\n",
       "      <td>108117252.5</td>\n",
       "      <td>132114861.9</td>\n",
       "    </tr>\n",
       "    <tr>\n",
       "      <th>3</th>\n",
       "      <td>1.496277e+09</td>\n",
       "      <td>2017-06-01</td>\n",
       "      <td>1124.1</td>\n",
       "      <td>138</td>\n",
       "      <td>6</td>\n",
       "      <td>4</td>\n",
       "      <td>108117252.5</td>\n",
       "      <td>132114861.9</td>\n",
       "    </tr>\n",
       "    <tr>\n",
       "      <th>4</th>\n",
       "      <td>1.496280e+09</td>\n",
       "      <td>2017-06-01</td>\n",
       "      <td>999.0</td>\n",
       "      <td>149</td>\n",
       "      <td>6</td>\n",
       "      <td>4</td>\n",
       "      <td>108117252.5</td>\n",
       "      <td>132114861.9</td>\n",
       "    </tr>\n",
       "  </tbody>\n",
       "</table>\n",
       "</div>"
      ],
      "text/plain": [
       "   clicked_epoch       date   price  category  month  day_of_week  \\\n",
       "0   1.496273e+09 2017-06-01   599.5       149      6            4   \n",
       "1   1.496273e+09 2017-06-01   599.5       149      6            4   \n",
       "2   1.496276e+09 2017-06-01  1349.1       138      6            4   \n",
       "3   1.496277e+09 2017-06-01  1124.1       138      6            4   \n",
       "4   1.496280e+09 2017-06-01   999.0       149      6            4   \n",
       "\n",
       "   income per month  income per week_day  \n",
       "0       108117252.5          132114861.9  \n",
       "1       108117252.5          132114861.9  \n",
       "2       108117252.5          132114861.9  \n",
       "3       108117252.5          132114861.9  \n",
       "4       108117252.5          132114861.9  "
      ]
     },
     "execution_count": 22,
     "metadata": {},
     "output_type": "execute_result"
    }
   ],
   "source": [
    "dataset=dataset.drop(['mean_pp'],axis=1)\n",
    "dataset.head()"
   ]
  },
  {
   "cell_type": "code",
   "execution_count": 20,
   "metadata": {},
   "outputs": [
    {
     "data": {
      "text/html": [
       "<div>\n",
       "<style scoped>\n",
       "    .dataframe tbody tr th:only-of-type {\n",
       "        vertical-align: middle;\n",
       "    }\n",
       "\n",
       "    .dataframe tbody tr th {\n",
       "        vertical-align: top;\n",
       "    }\n",
       "\n",
       "    .dataframe thead th {\n",
       "        text-align: right;\n",
       "    }\n",
       "</style>\n",
       "<table border=\"1\" class=\"dataframe\">\n",
       "  <thead>\n",
       "    <tr style=\"text-align: right;\">\n",
       "      <th></th>\n",
       "      <th>clicked_epoch</th>\n",
       "      <th>date</th>\n",
       "      <th>price</th>\n",
       "      <th>month</th>\n",
       "      <th>day_of_week</th>\n",
       "      <th>mean_pp</th>\n",
       "      <th>income per month</th>\n",
       "      <th>income per week_day</th>\n",
       "    </tr>\n",
       "  </thead>\n",
       "  <tbody>\n",
       "    <tr>\n",
       "      <th>0</th>\n",
       "      <td>1.496273e+09</td>\n",
       "      <td>2017-06-01</td>\n",
       "      <td>599.5</td>\n",
       "      <td>6</td>\n",
       "      <td>4</td>\n",
       "      <td>2616.647366</td>\n",
       "      <td>108117252.5</td>\n",
       "      <td>132114861.9</td>\n",
       "    </tr>\n",
       "    <tr>\n",
       "      <th>1</th>\n",
       "      <td>1.496273e+09</td>\n",
       "      <td>2017-06-01</td>\n",
       "      <td>599.5</td>\n",
       "      <td>6</td>\n",
       "      <td>4</td>\n",
       "      <td>2616.647366</td>\n",
       "      <td>108117252.5</td>\n",
       "      <td>132114861.9</td>\n",
       "    </tr>\n",
       "    <tr>\n",
       "      <th>2</th>\n",
       "      <td>1.496276e+09</td>\n",
       "      <td>2017-06-01</td>\n",
       "      <td>1349.1</td>\n",
       "      <td>6</td>\n",
       "      <td>4</td>\n",
       "      <td>2616.647366</td>\n",
       "      <td>108117252.5</td>\n",
       "      <td>132114861.9</td>\n",
       "    </tr>\n",
       "    <tr>\n",
       "      <th>3</th>\n",
       "      <td>1.496277e+09</td>\n",
       "      <td>2017-06-01</td>\n",
       "      <td>1124.1</td>\n",
       "      <td>6</td>\n",
       "      <td>4</td>\n",
       "      <td>2616.647366</td>\n",
       "      <td>108117252.5</td>\n",
       "      <td>132114861.9</td>\n",
       "    </tr>\n",
       "    <tr>\n",
       "      <th>4</th>\n",
       "      <td>1.496280e+09</td>\n",
       "      <td>2017-06-01</td>\n",
       "      <td>999.0</td>\n",
       "      <td>6</td>\n",
       "      <td>4</td>\n",
       "      <td>2616.647366</td>\n",
       "      <td>108117252.5</td>\n",
       "      <td>132114861.9</td>\n",
       "    </tr>\n",
       "  </tbody>\n",
       "</table>\n",
       "</div>"
      ],
      "text/plain": [
       "   clicked_epoch       date   price  month  day_of_week      mean_pp  \\\n",
       "0   1.496273e+09 2017-06-01   599.5      6            4  2616.647366   \n",
       "1   1.496273e+09 2017-06-01   599.5      6            4  2616.647366   \n",
       "2   1.496276e+09 2017-06-01  1349.1      6            4  2616.647366   \n",
       "3   1.496277e+09 2017-06-01  1124.1      6            4  2616.647366   \n",
       "4   1.496280e+09 2017-06-01   999.0      6            4  2616.647366   \n",
       "\n",
       "   income per month  income per week_day  \n",
       "0       108117252.5          132114861.9  \n",
       "1       108117252.5          132114861.9  \n",
       "2       108117252.5          132114861.9  \n",
       "3       108117252.5          132114861.9  \n",
       "4       108117252.5          132114861.9  "
      ]
     },
     "execution_count": 20,
     "metadata": {},
     "output_type": "execute_result"
    }
   ],
   "source": [
    "x=dataset.drop(['category'],axis=1)\n",
    "x.head()\n",
    "#x=dataset.drop(['date'],axis=1)"
   ]
  },
  {
   "cell_type": "code",
   "execution_count": 51,
   "metadata": {},
   "outputs": [
    {
     "ename": "KeyError",
     "evalue": "\"['date'] not found in axis\"",
     "output_type": "error",
     "traceback": [
      "\u001b[1;31m---------------------------------------------------------------------------\u001b[0m",
      "\u001b[1;31mKeyError\u001b[0m                                  Traceback (most recent call last)",
      "\u001b[1;32m<ipython-input-51-4e855e853d1f>\u001b[0m in \u001b[0;36m<module>\u001b[1;34m\u001b[0m\n\u001b[1;32m----> 1\u001b[1;33m \u001b[0mx\u001b[0m\u001b[1;33m=\u001b[0m\u001b[0mx\u001b[0m\u001b[1;33m.\u001b[0m\u001b[0mdrop\u001b[0m\u001b[1;33m(\u001b[0m\u001b[1;33m[\u001b[0m\u001b[1;34m'date'\u001b[0m\u001b[1;33m]\u001b[0m\u001b[1;33m,\u001b[0m\u001b[0maxis\u001b[0m\u001b[1;33m=\u001b[0m\u001b[1;36m1\u001b[0m\u001b[1;33m)\u001b[0m\u001b[1;33m\u001b[0m\u001b[1;33m\u001b[0m\u001b[0m\n\u001b[0m\u001b[0;32m      2\u001b[0m \u001b[0mx\u001b[0m\u001b[1;33m.\u001b[0m\u001b[0mhead\u001b[0m\u001b[1;33m(\u001b[0m\u001b[1;33m)\u001b[0m\u001b[1;33m\u001b[0m\u001b[1;33m\u001b[0m\u001b[0m\n",
      "\u001b[1;32m~\\Anaconda3\\lib\\site-packages\\pandas\\core\\frame.py\u001b[0m in \u001b[0;36mdrop\u001b[1;34m(self, labels, axis, index, columns, level, inplace, errors)\u001b[0m\n\u001b[0;32m   3938\u001b[0m                                            \u001b[0mindex\u001b[0m\u001b[1;33m=\u001b[0m\u001b[0mindex\u001b[0m\u001b[1;33m,\u001b[0m \u001b[0mcolumns\u001b[0m\u001b[1;33m=\u001b[0m\u001b[0mcolumns\u001b[0m\u001b[1;33m,\u001b[0m\u001b[1;33m\u001b[0m\u001b[1;33m\u001b[0m\u001b[0m\n\u001b[0;32m   3939\u001b[0m                                            \u001b[0mlevel\u001b[0m\u001b[1;33m=\u001b[0m\u001b[0mlevel\u001b[0m\u001b[1;33m,\u001b[0m \u001b[0minplace\u001b[0m\u001b[1;33m=\u001b[0m\u001b[0minplace\u001b[0m\u001b[1;33m,\u001b[0m\u001b[1;33m\u001b[0m\u001b[1;33m\u001b[0m\u001b[0m\n\u001b[1;32m-> 3940\u001b[1;33m                                            errors=errors)\n\u001b[0m\u001b[0;32m   3941\u001b[0m \u001b[1;33m\u001b[0m\u001b[0m\n\u001b[0;32m   3942\u001b[0m     @rewrite_axis_style_signature('mapper', [('copy', True),\n",
      "\u001b[1;32m~\\Anaconda3\\lib\\site-packages\\pandas\\core\\generic.py\u001b[0m in \u001b[0;36mdrop\u001b[1;34m(self, labels, axis, index, columns, level, inplace, errors)\u001b[0m\n\u001b[0;32m   3778\u001b[0m         \u001b[1;32mfor\u001b[0m \u001b[0maxis\u001b[0m\u001b[1;33m,\u001b[0m \u001b[0mlabels\u001b[0m \u001b[1;32min\u001b[0m \u001b[0maxes\u001b[0m\u001b[1;33m.\u001b[0m\u001b[0mitems\u001b[0m\u001b[1;33m(\u001b[0m\u001b[1;33m)\u001b[0m\u001b[1;33m:\u001b[0m\u001b[1;33m\u001b[0m\u001b[1;33m\u001b[0m\u001b[0m\n\u001b[0;32m   3779\u001b[0m             \u001b[1;32mif\u001b[0m \u001b[0mlabels\u001b[0m \u001b[1;32mis\u001b[0m \u001b[1;32mnot\u001b[0m \u001b[1;32mNone\u001b[0m\u001b[1;33m:\u001b[0m\u001b[1;33m\u001b[0m\u001b[1;33m\u001b[0m\u001b[0m\n\u001b[1;32m-> 3780\u001b[1;33m                 \u001b[0mobj\u001b[0m \u001b[1;33m=\u001b[0m \u001b[0mobj\u001b[0m\u001b[1;33m.\u001b[0m\u001b[0m_drop_axis\u001b[0m\u001b[1;33m(\u001b[0m\u001b[0mlabels\u001b[0m\u001b[1;33m,\u001b[0m \u001b[0maxis\u001b[0m\u001b[1;33m,\u001b[0m \u001b[0mlevel\u001b[0m\u001b[1;33m=\u001b[0m\u001b[0mlevel\u001b[0m\u001b[1;33m,\u001b[0m \u001b[0merrors\u001b[0m\u001b[1;33m=\u001b[0m\u001b[0merrors\u001b[0m\u001b[1;33m)\u001b[0m\u001b[1;33m\u001b[0m\u001b[1;33m\u001b[0m\u001b[0m\n\u001b[0m\u001b[0;32m   3781\u001b[0m \u001b[1;33m\u001b[0m\u001b[0m\n\u001b[0;32m   3782\u001b[0m         \u001b[1;32mif\u001b[0m \u001b[0minplace\u001b[0m\u001b[1;33m:\u001b[0m\u001b[1;33m\u001b[0m\u001b[1;33m\u001b[0m\u001b[0m\n",
      "\u001b[1;32m~\\Anaconda3\\lib\\site-packages\\pandas\\core\\generic.py\u001b[0m in \u001b[0;36m_drop_axis\u001b[1;34m(self, labels, axis, level, errors)\u001b[0m\n\u001b[0;32m   3810\u001b[0m                 \u001b[0mnew_axis\u001b[0m \u001b[1;33m=\u001b[0m \u001b[0maxis\u001b[0m\u001b[1;33m.\u001b[0m\u001b[0mdrop\u001b[0m\u001b[1;33m(\u001b[0m\u001b[0mlabels\u001b[0m\u001b[1;33m,\u001b[0m \u001b[0mlevel\u001b[0m\u001b[1;33m=\u001b[0m\u001b[0mlevel\u001b[0m\u001b[1;33m,\u001b[0m \u001b[0merrors\u001b[0m\u001b[1;33m=\u001b[0m\u001b[0merrors\u001b[0m\u001b[1;33m)\u001b[0m\u001b[1;33m\u001b[0m\u001b[1;33m\u001b[0m\u001b[0m\n\u001b[0;32m   3811\u001b[0m             \u001b[1;32melse\u001b[0m\u001b[1;33m:\u001b[0m\u001b[1;33m\u001b[0m\u001b[1;33m\u001b[0m\u001b[0m\n\u001b[1;32m-> 3812\u001b[1;33m                 \u001b[0mnew_axis\u001b[0m \u001b[1;33m=\u001b[0m \u001b[0maxis\u001b[0m\u001b[1;33m.\u001b[0m\u001b[0mdrop\u001b[0m\u001b[1;33m(\u001b[0m\u001b[0mlabels\u001b[0m\u001b[1;33m,\u001b[0m \u001b[0merrors\u001b[0m\u001b[1;33m=\u001b[0m\u001b[0merrors\u001b[0m\u001b[1;33m)\u001b[0m\u001b[1;33m\u001b[0m\u001b[1;33m\u001b[0m\u001b[0m\n\u001b[0m\u001b[0;32m   3813\u001b[0m             \u001b[0mresult\u001b[0m \u001b[1;33m=\u001b[0m \u001b[0mself\u001b[0m\u001b[1;33m.\u001b[0m\u001b[0mreindex\u001b[0m\u001b[1;33m(\u001b[0m\u001b[1;33m**\u001b[0m\u001b[1;33m{\u001b[0m\u001b[0maxis_name\u001b[0m\u001b[1;33m:\u001b[0m \u001b[0mnew_axis\u001b[0m\u001b[1;33m}\u001b[0m\u001b[1;33m)\u001b[0m\u001b[1;33m\u001b[0m\u001b[1;33m\u001b[0m\u001b[0m\n\u001b[0;32m   3814\u001b[0m \u001b[1;33m\u001b[0m\u001b[0m\n",
      "\u001b[1;32m~\\Anaconda3\\lib\\site-packages\\pandas\\core\\indexes\\base.py\u001b[0m in \u001b[0;36mdrop\u001b[1;34m(self, labels, errors)\u001b[0m\n\u001b[0;32m   4963\u001b[0m             \u001b[1;32mif\u001b[0m \u001b[0merrors\u001b[0m \u001b[1;33m!=\u001b[0m \u001b[1;34m'ignore'\u001b[0m\u001b[1;33m:\u001b[0m\u001b[1;33m\u001b[0m\u001b[1;33m\u001b[0m\u001b[0m\n\u001b[0;32m   4964\u001b[0m                 raise KeyError(\n\u001b[1;32m-> 4965\u001b[1;33m                     '{} not found in axis'.format(labels[mask]))\n\u001b[0m\u001b[0;32m   4966\u001b[0m             \u001b[0mindexer\u001b[0m \u001b[1;33m=\u001b[0m \u001b[0mindexer\u001b[0m\u001b[1;33m[\u001b[0m\u001b[1;33m~\u001b[0m\u001b[0mmask\u001b[0m\u001b[1;33m]\u001b[0m\u001b[1;33m\u001b[0m\u001b[1;33m\u001b[0m\u001b[0m\n\u001b[0;32m   4967\u001b[0m         \u001b[1;32mreturn\u001b[0m \u001b[0mself\u001b[0m\u001b[1;33m.\u001b[0m\u001b[0mdelete\u001b[0m\u001b[1;33m(\u001b[0m\u001b[0mindexer\u001b[0m\u001b[1;33m)\u001b[0m\u001b[1;33m\u001b[0m\u001b[1;33m\u001b[0m\u001b[0m\n",
      "\u001b[1;31mKeyError\u001b[0m: \"['date'] not found in axis\""
     ]
    }
   ],
   "source": [
    "x=x.drop(['date'],axis=1)\n",
    "x.head()\n"
   ]
  },
  {
   "cell_type": "code",
   "execution_count": 65,
   "metadata": {},
   "outputs": [
    {
     "data": {
      "text/html": [
       "<div>\n",
       "<style scoped>\n",
       "    .dataframe tbody tr th:only-of-type {\n",
       "        vertical-align: middle;\n",
       "    }\n",
       "\n",
       "    .dataframe tbody tr th {\n",
       "        vertical-align: top;\n",
       "    }\n",
       "\n",
       "    .dataframe thead th {\n",
       "        text-align: right;\n",
       "    }\n",
       "</style>\n",
       "<table border=\"1\" class=\"dataframe\">\n",
       "  <thead>\n",
       "    <tr style=\"text-align: right;\">\n",
       "      <th></th>\n",
       "      <th>price</th>\n",
       "      <th>month</th>\n",
       "      <th>day_of_week</th>\n",
       "    </tr>\n",
       "  </thead>\n",
       "  <tbody>\n",
       "    <tr>\n",
       "      <th>0</th>\n",
       "      <td>599.5</td>\n",
       "      <td>6</td>\n",
       "      <td>4</td>\n",
       "    </tr>\n",
       "    <tr>\n",
       "      <th>1</th>\n",
       "      <td>599.5</td>\n",
       "      <td>6</td>\n",
       "      <td>4</td>\n",
       "    </tr>\n",
       "    <tr>\n",
       "      <th>2</th>\n",
       "      <td>1349.1</td>\n",
       "      <td>6</td>\n",
       "      <td>4</td>\n",
       "    </tr>\n",
       "    <tr>\n",
       "      <th>3</th>\n",
       "      <td>1124.1</td>\n",
       "      <td>6</td>\n",
       "      <td>4</td>\n",
       "    </tr>\n",
       "    <tr>\n",
       "      <th>4</th>\n",
       "      <td>999.0</td>\n",
       "      <td>6</td>\n",
       "      <td>4</td>\n",
       "    </tr>\n",
       "  </tbody>\n",
       "</table>\n",
       "</div>"
      ],
      "text/plain": [
       "    price  month  day_of_week\n",
       "0   599.5      6            4\n",
       "1   599.5      6            4\n",
       "2  1349.1      6            4\n",
       "3  1124.1      6            4\n",
       "4   999.0      6            4"
      ]
     },
     "execution_count": 65,
     "metadata": {},
     "output_type": "execute_result"
    }
   ],
   "source": [
    "x_tr=x.iloc[0:20000,1:4]\n",
    "x_test=x.iloc[20000:23000,1:4]\n",
    "y_tr=dataset.iloc[0:20000,3:4]\n",
    "y_test=dataset.iloc[20000:23000,3:4]\n",
    "#y=dataset.iloc[: ,3:4]\n",
    "#print(y)\n",
    "x_tr.head()\n",
    "#y_tr.head()\n",
    "#x_test['pred']=pred"
   ]
  },
  {
   "cell_type": "code",
   "execution_count": 47,
   "metadata": {},
   "outputs": [
    {
     "ename": "NameError",
     "evalue": "name 'y' is not defined",
     "output_type": "error",
     "traceback": [
      "\u001b[1;31m---------------------------------------------------------------------------\u001b[0m",
      "\u001b[1;31mNameError\u001b[0m                                 Traceback (most recent call last)",
      "\u001b[1;32m<ipython-input-47-9dada04d4c4b>\u001b[0m in \u001b[0;36m<module>\u001b[1;34m\u001b[0m\n\u001b[1;32m----> 1\u001b[1;33m \u001b[0mprint\u001b[0m\u001b[1;33m(\u001b[0m\u001b[0my\u001b[0m\u001b[1;33m.\u001b[0m\u001b[0mhead\u001b[0m\u001b[1;33m(\u001b[0m\u001b[1;33m)\u001b[0m\u001b[1;33m)\u001b[0m\u001b[1;33m\u001b[0m\u001b[1;33m\u001b[0m\u001b[0m\n\u001b[0m",
      "\u001b[1;31mNameError\u001b[0m: name 'y' is not defined"
     ]
    }
   ],
   "source": [
    "print(y.head())"
   ]
  },
  {
   "cell_type": "code",
   "execution_count": 66,
   "metadata": {},
   "outputs": [
    {
     "name": "stdout",
     "output_type": "stream",
     "text": [
      "(20000, 3)\n",
      "(20000, 1)\n",
      "(3000, 3)\n"
     ]
    }
   ],
   "source": [
    "from sklearn.model_selection import train_test_split\n",
    "#x_tr,x_test,y_tr,y_test=train_test_split(x,y,test_size=0.2,random_state=0)\n",
    "print(x_tr.shape)\n",
    "print(y_tr.shape)\n",
    "print(x_test.shape)"
   ]
  },
  {
   "cell_type": "code",
   "execution_count": 67,
   "metadata": {},
   "outputs": [
    {
     "data": {
      "text/plain": [
       "(20000,)"
      ]
     },
     "execution_count": 67,
     "metadata": {},
     "output_type": "execute_result"
    }
   ],
   "source": [
    "y_tr=np.ravel(y_tr)\n",
    "y_test=np.ravel(y_test)\n",
    "y_tr.shape\n"
   ]
  },
  {
   "cell_type": "code",
   "execution_count": null,
   "metadata": {},
   "outputs": [],
   "source": [
    "#from sklearn import cross_validation\n",
    "#from sklearn.cross_validation import cross_val_score\n",
    "#from sklearn.neighbors import KNeighborsClassifier\n",
    "from sklearn.metrics import accuracy_score\n",
    "from sklearn import svm\n",
    "#X = [[0, 0], [1, 1]]\n",
    "#y = [0, 1]\n",
    "clf = svm.SVC()\n",
    "clf.fit(x_tr,y_tr)\n",
    "pred=clf.predict(x_test)\n",
    "acc2=accuracy_score(pred,y_test)\n",
    "acc2=acc2*100\n",
    "acc2"
   ]
  },
  {
   "cell_type": "code",
   "execution_count": 48,
   "metadata": {
    "scrolled": true
   },
   "outputs": [
    {
     "name": "stderr",
     "output_type": "stream",
     "text": [
      "C:\\Users\\Sri\\Anaconda3\\lib\\site-packages\\sklearn\\model_selection\\_split.py:652: Warning: The least populated class in y has only 1 members, which is too few. The minimum number of members in any class cannot be less than n_splits=3.\n",
      "  % (min_groups, self.n_splits)), Warning)\n",
      "C:\\Users\\Sri\\Anaconda3\\lib\\site-packages\\sklearn\\svm\\base.py:931: ConvergenceWarning: Liblinear failed to converge, increase the number of iterations.\n",
      "  \"the number of iterations.\", ConvergenceWarning)\n",
      "C:\\Users\\Sri\\Anaconda3\\lib\\site-packages\\sklearn\\svm\\base.py:931: ConvergenceWarning: Liblinear failed to converge, increase the number of iterations.\n",
      "  \"the number of iterations.\", ConvergenceWarning)\n",
      "C:\\Users\\Sri\\Anaconda3\\lib\\site-packages\\sklearn\\svm\\base.py:931: ConvergenceWarning: Liblinear failed to converge, increase the number of iterations.\n",
      "  \"the number of iterations.\", ConvergenceWarning)\n",
      "C:\\Users\\Sri\\Anaconda3\\lib\\site-packages\\sklearn\\svm\\base.py:931: ConvergenceWarning: Liblinear failed to converge, increase the number of iterations.\n",
      "  \"the number of iterations.\", ConvergenceWarning)\n",
      "C:\\Users\\Sri\\Anaconda3\\lib\\site-packages\\sklearn\\svm\\base.py:931: ConvergenceWarning: Liblinear failed to converge, increase the number of iterations.\n",
      "  \"the number of iterations.\", ConvergenceWarning)\n"
     ]
    },
    {
     "name": "stdout",
     "output_type": "stream",
     "text": [
      "LogisticRegression(C=0.01, class_weight=None, dual=False, fit_intercept=True,\n",
      "          intercept_scaling=1, max_iter=100, multi_class='warn',\n",
      "          n_jobs=None, penalty='l1', random_state=None, solver='liblinear',\n",
      "          tol=0.0001, verbose=0, warm_start=False)\n"
     ]
    }
   ],
   "source": [
    "from sklearn import *\n",
    "from sklearn.model_selection import train_test_split\n",
    "from sklearn.model_selection import GridSearchCV \n",
    "#from sklearn.datasets import *\n",
    "from sklearn.linear_model import LogisticRegression\n",
    "tuned_para=[{'C':[10**-4,10**-2,10**0,10**2,10**-2]}]\n",
    "model=GridSearchCV(LogisticRegression(penalty='l1',solver='liblinear'),tuned_para,scoring='accuracy')\n",
    "model.fit(x_tr,y_tr)\n",
    "print(model.best_estimator_) \n",
    "acc3=model.score(x_test,y_test)\n"
   ]
  },
  {
   "cell_type": "code",
   "execution_count": 49,
   "metadata": {},
   "outputs": [
    {
     "data": {
      "text/plain": [
       "0.20615343729992872"
      ]
     },
     "execution_count": 49,
     "metadata": {},
     "output_type": "execute_result"
    }
   ],
   "source": [
    "acc3"
   ]
  },
  {
   "cell_type": "code",
   "execution_count": 63,
   "metadata": {},
   "outputs": [
    {
     "data": {
      "text/plain": [
       "31.6"
      ]
     },
     "execution_count": 63,
     "metadata": {},
     "output_type": "execute_result"
    }
   ],
   "source": [
    "from sklearn.metrics import accuracy_score\n",
    "from sklearn.ensemble import RandomForestClassifier\n",
    "rf=RandomForestClassifier(n_estimators=200)\n",
    "rf.fit(x_tr,y_tr)\n",
    "pred_rfc=rf.predict(x_test)\n",
    "acc1=accuracy_score(pred_rfc,y_test)\n",
    "acc1=acc1*100\n",
    "acc1"
   ]
  },
  {
   "cell_type": "code",
   "execution_count": 30,
   "metadata": {},
   "outputs": [
    {
     "name": "stderr",
     "output_type": "stream",
     "text": [
      "C:\\Users\\Sri\\Anaconda3\\lib\\site-packages\\sklearn\\model_selection\\_split.py:652: Warning: The least populated class in y has only 1 members, which is too few. The minimum number of members in any class cannot be less than n_splits=10.\n",
      "  % (min_groups, self.n_splits)), Warning)\n"
     ]
    },
    {
     "data": {
      "text/plain": [
       "0.4145903677635614"
      ]
     },
     "execution_count": 30,
     "metadata": {},
     "output_type": "execute_result"
    }
   ],
   "source": [
    "from sklearn.model_selection import GridSearchCV,cross_val_score\n",
    "rfc_eval=cross_val_score(estimator=rf,X=x_tr,y=y_tr,cv=10)\n",
    "acc4=rfc_eval.mean()\n",
    "acc4"
   ]
  },
  {
   "cell_type": "code",
   "execution_count": 34,
   "metadata": {},
   "outputs": [
    {
     "data": {
      "text/plain": [
       "991120.2475638653"
      ]
     },
     "execution_count": 34,
     "metadata": {},
     "output_type": "execute_result"
    }
   ],
   "source": [
    "acc4=acc4*100\n",
    "acc4"
   ]
  },
  {
   "cell_type": "code",
   "execution_count": 57,
   "metadata": {},
   "outputs": [
    {
     "name": "stderr",
     "output_type": "stream",
     "text": [
      "C:\\Users\\Sri\\Anaconda3\\lib\\site-packages\\sklearn\\model_selection\\_split.py:652: Warning: The least populated class in y has only 1 members, which is too few. The minimum number of members in any class cannot be less than n_splits=10.\n",
      "  % (min_groups, self.n_splits)), Warning)\n",
      "C:\\Users\\Sri\\Anaconda3\\lib\\site-packages\\sklearn\\model_selection\\_split.py:652: Warning: The least populated class in y has only 1 members, which is too few. The minimum number of members in any class cannot be less than n_splits=10.\n",
      "  % (min_groups, self.n_splits)), Warning)\n",
      "C:\\Users\\Sri\\Anaconda3\\lib\\site-packages\\sklearn\\model_selection\\_split.py:652: Warning: The least populated class in y has only 1 members, which is too few. The minimum number of members in any class cannot be less than n_splits=10.\n",
      "  % (min_groups, self.n_splits)), Warning)\n",
      "C:\\Users\\Sri\\Anaconda3\\lib\\site-packages\\sklearn\\model_selection\\_split.py:652: Warning: The least populated class in y has only 1 members, which is too few. The minimum number of members in any class cannot be less than n_splits=10.\n",
      "  % (min_groups, self.n_splits)), Warning)\n",
      "C:\\Users\\Sri\\Anaconda3\\lib\\site-packages\\sklearn\\model_selection\\_split.py:652: Warning: The least populated class in y has only 1 members, which is too few. The minimum number of members in any class cannot be less than n_splits=10.\n",
      "  % (min_groups, self.n_splits)), Warning)\n",
      "C:\\Users\\Sri\\Anaconda3\\lib\\site-packages\\sklearn\\model_selection\\_split.py:652: Warning: The least populated class in y has only 1 members, which is too few. The minimum number of members in any class cannot be less than n_splits=10.\n",
      "  % (min_groups, self.n_splits)), Warning)\n",
      "C:\\Users\\Sri\\Anaconda3\\lib\\site-packages\\sklearn\\model_selection\\_split.py:652: Warning: The least populated class in y has only 1 members, which is too few. The minimum number of members in any class cannot be less than n_splits=10.\n",
      "  % (min_groups, self.n_splits)), Warning)\n",
      "C:\\Users\\Sri\\Anaconda3\\lib\\site-packages\\sklearn\\model_selection\\_split.py:652: Warning: The least populated class in y has only 1 members, which is too few. The minimum number of members in any class cannot be less than n_splits=10.\n",
      "  % (min_groups, self.n_splits)), Warning)\n",
      "C:\\Users\\Sri\\Anaconda3\\lib\\site-packages\\sklearn\\model_selection\\_split.py:652: Warning: The least populated class in y has only 1 members, which is too few. The minimum number of members in any class cannot be less than n_splits=10.\n",
      "  % (min_groups, self.n_splits)), Warning)\n",
      "C:\\Users\\Sri\\Anaconda3\\lib\\site-packages\\sklearn\\model_selection\\_split.py:652: Warning: The least populated class in y has only 1 members, which is too few. The minimum number of members in any class cannot be less than n_splits=10.\n",
      "  % (min_groups, self.n_splits)), Warning)\n",
      "C:\\Users\\Sri\\Anaconda3\\lib\\site-packages\\sklearn\\model_selection\\_split.py:652: Warning: The least populated class in y has only 1 members, which is too few. The minimum number of members in any class cannot be less than n_splits=10.\n",
      "  % (min_groups, self.n_splits)), Warning)\n",
      "C:\\Users\\Sri\\Anaconda3\\lib\\site-packages\\sklearn\\model_selection\\_split.py:652: Warning: The least populated class in y has only 1 members, which is too few. The minimum number of members in any class cannot be less than n_splits=10.\n",
      "  % (min_groups, self.n_splits)), Warning)\n",
      "C:\\Users\\Sri\\Anaconda3\\lib\\site-packages\\sklearn\\model_selection\\_split.py:652: Warning: The least populated class in y has only 1 members, which is too few. The minimum number of members in any class cannot be less than n_splits=10.\n",
      "  % (min_groups, self.n_splits)), Warning)\n",
      "C:\\Users\\Sri\\Anaconda3\\lib\\site-packages\\sklearn\\model_selection\\_split.py:652: Warning: The least populated class in y has only 1 members, which is too few. The minimum number of members in any class cannot be less than n_splits=10.\n",
      "  % (min_groups, self.n_splits)), Warning)\n",
      "C:\\Users\\Sri\\Anaconda3\\lib\\site-packages\\sklearn\\model_selection\\_split.py:652: Warning: The least populated class in y has only 1 members, which is too few. The minimum number of members in any class cannot be less than n_splits=10.\n",
      "  % (min_groups, self.n_splits)), Warning)\n",
      "C:\\Users\\Sri\\Anaconda3\\lib\\site-packages\\sklearn\\model_selection\\_split.py:652: Warning: The least populated class in y has only 1 members, which is too few. The minimum number of members in any class cannot be less than n_splits=10.\n",
      "  % (min_groups, self.n_splits)), Warning)\n",
      "C:\\Users\\Sri\\Anaconda3\\lib\\site-packages\\sklearn\\model_selection\\_split.py:652: Warning: The least populated class in y has only 1 members, which is too few. The minimum number of members in any class cannot be less than n_splits=10.\n",
      "  % (min_groups, self.n_splits)), Warning)\n",
      "C:\\Users\\Sri\\Anaconda3\\lib\\site-packages\\sklearn\\model_selection\\_split.py:652: Warning: The least populated class in y has only 1 members, which is too few. The minimum number of members in any class cannot be less than n_splits=10.\n",
      "  % (min_groups, self.n_splits)), Warning)\n",
      "C:\\Users\\Sri\\Anaconda3\\lib\\site-packages\\sklearn\\model_selection\\_split.py:652: Warning: The least populated class in y has only 1 members, which is too few. The minimum number of members in any class cannot be less than n_splits=10.\n",
      "  % (min_groups, self.n_splits)), Warning)\n",
      "C:\\Users\\Sri\\Anaconda3\\lib\\site-packages\\sklearn\\model_selection\\_split.py:652: Warning: The least populated class in y has only 1 members, which is too few. The minimum number of members in any class cannot be less than n_splits=10.\n",
      "  % (min_groups, self.n_splits)), Warning)\n",
      "C:\\Users\\Sri\\Anaconda3\\lib\\site-packages\\sklearn\\model_selection\\_split.py:652: Warning: The least populated class in y has only 1 members, which is too few. The minimum number of members in any class cannot be less than n_splits=10.\n",
      "  % (min_groups, self.n_splits)), Warning)\n",
      "C:\\Users\\Sri\\Anaconda3\\lib\\site-packages\\sklearn\\model_selection\\_split.py:652: Warning: The least populated class in y has only 1 members, which is too few. The minimum number of members in any class cannot be less than n_splits=10.\n",
      "  % (min_groups, self.n_splits)), Warning)\n",
      "C:\\Users\\Sri\\Anaconda3\\lib\\site-packages\\sklearn\\model_selection\\_split.py:652: Warning: The least populated class in y has only 1 members, which is too few. The minimum number of members in any class cannot be less than n_splits=10.\n",
      "  % (min_groups, self.n_splits)), Warning)\n",
      "C:\\Users\\Sri\\Anaconda3\\lib\\site-packages\\sklearn\\model_selection\\_split.py:652: Warning: The least populated class in y has only 1 members, which is too few. The minimum number of members in any class cannot be less than n_splits=10.\n",
      "  % (min_groups, self.n_splits)), Warning)\n",
      "C:\\Users\\Sri\\Anaconda3\\lib\\site-packages\\sklearn\\model_selection\\_split.py:652: Warning: The least populated class in y has only 1 members, which is too few. The minimum number of members in any class cannot be less than n_splits=10.\n",
      "  % (min_groups, self.n_splits)), Warning)\n"
     ]
    },
    {
     "name": "stdout",
     "output_type": "stream",
     "text": [
      "optimal_k=9\n"
     ]
    },
    {
     "data": {
      "image/png": "[encoded data removed]",
      "text/plain": [
       "<Figure size 432x288 with 1 Axes>"
      ]
     },
     "metadata": {
      "needs_background": "light"
     },
     "output_type": "display_data"
    }
   ],
   "source": [
    "from sklearn.model_selection import GridSearchCV,cross_val_score\n",
    "from sklearn.neighbors import KNeighborsClassifier\n",
    "from sklearn.metrics import accuracy_score\n",
    "def k_classfier_brute(x_tr,y_tr):\n",
    "    mylist=list(range(0,50))\n",
    "\n",
    "    neighbors=list(filter(lambda x:x%2!=0,mylist))\n",
    "\n",
    "    cv_scores = []\n",
    "\n",
    "    for k in neighbors:\n",
    "        knn=KNeighborsClassifier(n_neighbors=k)\n",
    "        scores=cross_val_score(knn,x_tr,y_tr,cv=10,scoring='accuracy')\n",
    "        cv_scores.append(scores.mean())\n",
    "\n",
    "    MSE=[1-x for x in cv_scores]\n",
    "\n",
    "    optimal_k=neighbors[MSE.index(min(MSE))]\n",
    "\n",
    "    print(\"optimal_k=%d\"% optimal_k)\n",
    "\n",
    "    plt.plot(neighbors,MSE)\n",
    "\n",
    "    for xy in zip(neighbors,np.round(MSE,3)):\n",
    "        plt.annotate('(%s,%s)'%xy,xy=xy,textcoords='data')\n",
    "\n",
    "    plt.xlabel('Number of neighbors K')\n",
    "\n",
    "    plt.ylabel(\"Mse errors\")\n",
    "\n",
    "    plt.show() \n",
    "    return optimal_k\n",
    "knn_op=k_classfier_brute(x_tr,y_tr)\n",
    "knn=KNeighborsClassifier(n_neighbors=knn_op)\n",
    "knn.fit(x_tr,y_tr)\n",
    "pred=knn.predict(x_test)\n",
    "acc=accuracy_score(pred,y_test)*100\n",
    "#print(acc)"
   ]
  },
  {
   "cell_type": "code",
   "execution_count": 58,
   "metadata": {},
   "outputs": [
    {
     "name": "stdout",
     "output_type": "stream",
     "text": [
      "9\n",
      "44.233333333333334\n"
     ]
    }
   ],
   "source": [
    "print(knn_op)\n",
    "print(acc)"
   ]
  },
  {
   "cell_type": "code",
   "execution_count": 40,
   "metadata": {},
   "outputs": [
    {
     "data": {
      "text/html": [
       "<div>\n",
       "<style scoped>\n",
       "    .dataframe tbody tr th:only-of-type {\n",
       "        vertical-align: middle;\n",
       "    }\n",
       "\n",
       "    .dataframe tbody tr th {\n",
       "        vertical-align: top;\n",
       "    }\n",
       "\n",
       "    .dataframe thead th {\n",
       "        text-align: right;\n",
       "    }\n",
       "</style>\n",
       "<table border=\"1\" class=\"dataframe\">\n",
       "  <thead>\n",
       "    <tr style=\"text-align: right;\">\n",
       "      <th></th>\n",
       "      <th>Model</th>\n",
       "      <th>Score</th>\n",
       "    </tr>\n",
       "  </thead>\n",
       "  <tbody>\n",
       "    <tr>\n",
       "      <th>3</th>\n",
       "      <td>Logistic Regression</td>\n",
       "      <td>991120.247564</td>\n",
       "    </tr>\n",
       "    <tr>\n",
       "      <th>1</th>\n",
       "      <td>KNN</td>\n",
       "      <td>99.235000</td>\n",
       "    </tr>\n",
       "    <tr>\n",
       "      <th>0</th>\n",
       "      <td>Support Vector Machines</td>\n",
       "      <td>94.011667</td>\n",
       "    </tr>\n",
       "    <tr>\n",
       "      <th>2</th>\n",
       "      <td>Random Forest</td>\n",
       "      <td>94.011667</td>\n",
       "    </tr>\n",
       "  </tbody>\n",
       "</table>\n",
       "</div>"
      ],
      "text/plain": [
       "                     Model          Score\n",
       "3      Logistic Regression  991120.247564\n",
       "1                      KNN      99.235000\n",
       "0  Support Vector Machines      94.011667\n",
       "2            Random Forest      94.011667"
      ]
     },
     "execution_count": 40,
     "metadata": {},
     "output_type": "execute_result"
    }
   ],
   "source": [
    "models = pd.DataFrame({\n",
    "    'Model': ['Support Vector Machines', 'KNN', \n",
    "              'Random Forest','Logistic Regression'],\n",
    "    'Score': [acc2,acc1,acc2,acc4]})\n",
    "models.sort_values(by='Score', ascending=False)"
   ]
  },
  {
   "cell_type": "code",
   "execution_count": 31,
   "metadata": {},
   "outputs": [],
   "source": [
    "#xgboost classification technique\n",
    "import pickle\n",
    "import xgboost as xgb\n"
   ]
  },
  {
   "cell_type": "code",
   "execution_count": 32,
   "metadata": {},
   "outputs": [
    {
     "data": {
      "text/plain": [
       "40.13333333333333"
      ]
     },
     "execution_count": 32,
     "metadata": {},
     "output_type": "execute_result"
    }
   ],
   "source": [
    "xgb_model=xgb.XGBClassifier().fit(x_tr,y_tr)\n",
    "pred=xgb_model.predict(x_test)\n",
    "acc9=accuracy_score(pred,y_test)\n",
    "acc9=acc9*100\n",
    "acc9\n"
   ]
  },
  {
   "cell_type": "code",
   "execution_count": 78,
   "metadata": {},
   "outputs": [
    {
     "data": {
      "text/html": [
       "<div>\n",
       "<style scoped>\n",
       "    .dataframe tbody tr th:only-of-type {\n",
       "        vertical-align: middle;\n",
       "    }\n",
       "\n",
       "    .dataframe tbody tr th {\n",
       "        vertical-align: top;\n",
       "    }\n",
       "\n",
       "    .dataframe thead th {\n",
       "        text-align: right;\n",
       "    }\n",
       "</style>\n",
       "<table border=\"1\" class=\"dataframe\">\n",
       "  <thead>\n",
       "    <tr style=\"text-align: right;\">\n",
       "      <th></th>\n",
       "      <th>Model</th>\n",
       "      <th>Score</th>\n",
       "    </tr>\n",
       "  </thead>\n",
       "  <tbody>\n",
       "    <tr>\n",
       "      <th>3</th>\n",
       "      <td>XGBoost Classifier</td>\n",
       "      <td>99.951667</td>\n",
       "    </tr>\n",
       "    <tr>\n",
       "      <th>2</th>\n",
       "      <td>Random Forest</td>\n",
       "      <td>99.235000</td>\n",
       "    </tr>\n",
       "    <tr>\n",
       "      <th>1</th>\n",
       "      <td>KNN</td>\n",
       "      <td>96.308333</td>\n",
       "    </tr>\n",
       "    <tr>\n",
       "      <th>0</th>\n",
       "      <td>Support Vector Machines</td>\n",
       "      <td>94.011667</td>\n",
       "    </tr>\n",
       "  </tbody>\n",
       "</table>\n",
       "</div>"
      ],
      "text/plain": [
       "                     Model      Score\n",
       "3       XGBoost Classifier  99.951667\n",
       "2            Random Forest  99.235000\n",
       "1                      KNN  96.308333\n",
       "0  Support Vector Machines  94.011667"
      ]
     },
     "execution_count": 78,
     "metadata": {},
     "output_type": "execute_result"
    }
   ],
   "source": [
    "models = pd.DataFrame({\n",
    "    'Model': ['Support Vector Machines', 'KNN', \n",
    "              'Random Forest','XGBoost Classifier'],\n",
    "    'Score': [acc2,acc,acc1,acc9]})\n",
    "models.sort_values(by='Score', ascending=False)"
   ]
  },
  {
   "cell_type": "code",
   "execution_count": 88,
   "metadata": {},
   "outputs": [],
   "source": [
    "x_test['predicted_category']=pred"
   ]
  },
  {
   "cell_type": "code",
   "execution_count": 86,
   "metadata": {},
   "outputs": [
    {
     "data": {
      "text/html": [
       "<div>\n",
       "<style scoped>\n",
       "    .dataframe tbody tr th:only-of-type {\n",
       "        vertical-align: middle;\n",
       "    }\n",
       "\n",
       "    .dataframe tbody tr th {\n",
       "        vertical-align: top;\n",
       "    }\n",
       "\n",
       "    .dataframe thead th {\n",
       "        text-align: right;\n",
       "    }\n",
       "</style>\n",
       "<table border=\"1\" class=\"dataframe\">\n",
       "  <thead>\n",
       "    <tr style=\"text-align: right;\">\n",
       "      <th></th>\n",
       "      <th>price</th>\n",
       "      <th>category</th>\n",
       "      <th>predicted_value</th>\n",
       "    </tr>\n",
       "  </thead>\n",
       "  <tbody>\n",
       "    <tr>\n",
       "      <th>54458</th>\n",
       "      <td>399.0</td>\n",
       "      <td>53</td>\n",
       "      <td>53</td>\n",
       "    </tr>\n",
       "    <tr>\n",
       "      <th>118646</th>\n",
       "      <td>949.0</td>\n",
       "      <td>149</td>\n",
       "      <td>149</td>\n",
       "    </tr>\n",
       "    <tr>\n",
       "      <th>57401</th>\n",
       "      <td>1499.0</td>\n",
       "      <td>279</td>\n",
       "      <td>279</td>\n",
       "    </tr>\n",
       "    <tr>\n",
       "      <th>115324</th>\n",
       "      <td>1249.0</td>\n",
       "      <td>243</td>\n",
       "      <td>243</td>\n",
       "    </tr>\n",
       "    <tr>\n",
       "      <th>71684</th>\n",
       "      <td>1994.0</td>\n",
       "      <td>211</td>\n",
       "      <td>211</td>\n",
       "    </tr>\n",
       "  </tbody>\n",
       "</table>\n",
       "</div>"
      ],
      "text/plain": [
       "         price  category  predicted_value\n",
       "54458    399.0        53               53\n",
       "118646   949.0       149              149\n",
       "57401   1499.0       279              279\n",
       "115324  1249.0       243              243\n",
       "71684   1994.0       211              211"
      ]
     },
     "execution_count": 86,
     "metadata": {},
     "output_type": "execute_result"
    }
   ],
   "source": [
    "x_test.head()"
   ]
  },
  {
   "cell_type": "code",
   "execution_count": null,
   "metadata": {},
   "outputs": [],
   "source": []
  },
  {
   "cell_type": "code",
   "execution_count": 39,
   "metadata": {},
   "outputs": [
    {
     "name": "stdout",
     "output_type": "stream",
     "text": [
      "Time taken : 0:54:04.243280\n"
     ]
    }
   ],
   "source": [
    "print('Time taken :', datetime.now() - start)"
   ]
  }
 ],
 "metadata": {
  "kernelspec": {
   "display_name": "Python 3",
   "language": "python",
   "name": "python3"
  },
  "language_info": {
   "codemirror_mode": {
    "name": "ipython",
    "version": 3
   },
   "file_extension": ".py",
   "mimetype": "text/x-python",
   "name": "python",
   "nbconvert_exporter": "python",
   "pygments_lexer": "ipython3",
   "version": "3.7.3"
  }
 },
 "nbformat": 4,
 "nbformat_minor": 2
}

{
 "cells": [
  {
   "cell_type": "code",
   "execution_count": 2,
   "metadata": {},
   "outputs": [],
   "source": [
    "import numpy as np\n",
    "import pandas as pd\n",
    "import matplotlib.pyplot as plt\n"
   ]
  },
  {
   "cell_type": "code",
   "execution_count": 3,
   "metadata": {},
   "outputs": [],
   "source": [
    "dataset=pd.read_csv(\"C:/Users/dheer/Desktop/Deep_Learning_A_Z/international-airline-passengers.csv\")"
   ]
  },
  {
   "cell_type": "code",
   "execution_count": 4,
   "metadata": {},
   "outputs": [
    {
     "data": {
      "text/html": [
       "<div>\n",
       "<style scoped>\n",
       "    .dataframe tbody tr th:only-of-type {\n",
       "        vertical-align: middle;\n",
       "    }\n",
       "\n",
       "    .dataframe tbody tr th {\n",
       "        vertical-align: top;\n",
       "    }\n",
       "\n",
       "    .dataframe thead th {\n",
       "        text-align: right;\n",
       "    }\n",
       "</style>\n",
       "<table border=\"1\" class=\"dataframe\">\n",
       "  <thead>\n",
       "    <tr style=\"text-align: right;\">\n",
       "      <th></th>\n",
       "      <th>Month</th>\n",
       "      <th>International airline passengers: monthly totals in thousands. Jan 49 ? Dec 60</th>\n",
       "    </tr>\n",
       "  </thead>\n",
       "  <tbody>\n",
       "    <tr>\n",
       "      <th>0</th>\n",
       "      <td>1949-01</td>\n",
       "      <td>112.0</td>\n",
       "    </tr>\n",
       "    <tr>\n",
       "      <th>1</th>\n",
       "      <td>1949-02</td>\n",
       "      <td>118.0</td>\n",
       "    </tr>\n",
       "    <tr>\n",
       "      <th>2</th>\n",
       "      <td>1949-03</td>\n",
       "      <td>132.0</td>\n",
       "    </tr>\n",
       "    <tr>\n",
       "      <th>3</th>\n",
       "      <td>1949-04</td>\n",
       "      <td>129.0</td>\n",
       "    </tr>\n",
       "    <tr>\n",
       "      <th>4</th>\n",
       "      <td>1949-05</td>\n",
       "      <td>121.0</td>\n",
       "    </tr>\n",
       "  </tbody>\n",
       "</table>\n",
       "</div>"
      ],
      "text/plain": [
       "     Month  \\\n",
       "0  1949-01   \n",
       "1  1949-02   \n",
       "2  1949-03   \n",
       "3  1949-04   \n",
       "4  1949-05   \n",
       "\n",
       "   International airline passengers: monthly totals in thousands. Jan 49 ? Dec 60  \n",
       "0                                              112.0                               \n",
       "1                                              118.0                               \n",
       "2                                              132.0                               \n",
       "3                                              129.0                               \n",
       "4                                              121.0                               "
      ]
     },
     "execution_count": 4,
     "metadata": {},
     "output_type": "execute_result"
    }
   ],
   "source": [
    "dataset.head()\n"
   ]
  },
  {
   "cell_type": "code",
   "execution_count": 5,
   "metadata": {},
   "outputs": [],
   "source": [
    "dataset['International airline passengers: monthly totals in thousands. Jan 49 ? Dec 60'].fillna(0,inplace=True)\n",
    "t1=dataset.iloc[:,1:2].values"
   ]
  },
  {
   "cell_type": "code",
   "execution_count": 6,
   "metadata": {},
   "outputs": [],
   "source": [
    "\n",
    "from sklearn.preprocessing import MinMaxScaler\n",
    "sc=MinMaxScaler(feature_range =(0,1))\n",
    "scaled_train=sc.fit_transform(t1)"
   ]
  },
  {
   "cell_type": "code",
   "execution_count": 7,
   "metadata": {},
   "outputs": [
    {
     "data": {
      "text/plain": [
       "(99,)"
      ]
     },
     "execution_count": 7,
     "metadata": {},
     "output_type": "execute_result"
    }
   ],
   "source": [
    "x_train=[]\n",
    "y_train=[]\n",
    "for i in range(1,100):\n",
    "    x_train.append(scaled_train[i-1:i,0])\n",
    "    y_train.append(scaled_train[i,0])\n",
    "x_train=np.array(x_train)\n",
    "y_train=np.array(y_train)\n",
    "y_train.shape"
   ]
  },
  {
   "cell_type": "code",
   "execution_count": 8,
   "metadata": {},
   "outputs": [],
   "source": [
    "x_train=np.reshape(x_train,(x_train.shape[0],x_train.shape[1],1))"
   ]
  },
  {
   "cell_type": "code",
   "execution_count": 9,
   "metadata": {},
   "outputs": [
    {
     "data": {
      "text/plain": [
       "(99, 1, 1)"
      ]
     },
     "execution_count": 9,
     "metadata": {},
     "output_type": "execute_result"
    }
   ],
   "source": [
    "x_train.shape"
   ]
  },
  {
   "cell_type": "code",
   "execution_count": 10,
   "metadata": {},
   "outputs": [
    {
     "name": "stderr",
     "output_type": "stream",
     "text": [
      "Using TensorFlow backend.\n",
      "C:\\Users\\dheer\\AppData\\Local\\Continuum\\anaconda3\\ANACONDA2\\lib\\site-packages\\h5py\\__init__.py:36: FutureWarning: Conversion of the second argument of issubdtype from `float` to `np.floating` is deprecated. In future, it will be treated as `np.float64 == np.dtype(float).type`.\n",
      "  from ._conv import register_converters as _register_converters\n"
     ]
    }
   ],
   "source": [
    "from keras.models import Sequential\n",
    "from keras.layers import Dense\n",
    "from keras.layers import LSTM\n",
    "from keras.layers import Dropout\n"
   ]
  },
  {
   "cell_type": "code",
   "execution_count": 11,
   "metadata": {},
   "outputs": [
    {
     "name": "stdout",
     "output_type": "stream",
     "text": [
      "WARNING:tensorflow:From C:\\Users\\dheer\\AppData\\Local\\Continuum\\anaconda3\\ANACONDA2\\lib\\site-packages\\tensorflow\\python\\framework\\op_def_library.py:263: colocate_with (from tensorflow.python.framework.ops) is deprecated and will be removed in a future version.\n",
      "Instructions for updating:\n",
      "Colocations handled automatically by placer.\n",
      "WARNING:tensorflow:From C:\\Users\\dheer\\AppData\\Local\\Continuum\\anaconda3\\ANACONDA2\\lib\\site-packages\\keras\\backend\\tensorflow_backend.py:1044: calling reduce_sum_v1 (from tensorflow.python.ops.math_ops) with keep_dims is deprecated and will be removed in a future version.\n",
      "Instructions for updating:\n",
      "keep_dims is deprecated, use keepdims instead\n",
      "WARNING:tensorflow:From C:\\Users\\dheer\\AppData\\Local\\Continuum\\anaconda3\\ANACONDA2\\lib\\site-packages\\keras\\backend\\tensorflow_backend.py:2681: calling dropout (from tensorflow.python.ops.nn_ops) with keep_prob is deprecated and will be removed in a future version.\n",
      "Instructions for updating:\n",
      "Please use `rate` instead of `keep_prob`. Rate should be set to `rate = 1 - keep_prob`.\n"
     ]
    }
   ],
   "source": [
    "regressor=Sequential()\n",
    "regressor.add(LSTM(units=50,return_sequences=True,input_shape=(x_train.shape[1],1)))\n",
    "regressor.add(Dropout(0.2))\n",
    "    "
   ]
  },
  {
   "cell_type": "code",
   "execution_count": 12,
   "metadata": {},
   "outputs": [],
   "source": [
    "regressor.add(LSTM(units=50,return_sequences=True))\n",
    "regressor.add(Dropout(0.2))\n",
    "    "
   ]
  },
  {
   "cell_type": "code",
   "execution_count": 25,
   "metadata": {},
   "outputs": [],
   "source": [
    "regressor.add(LSTM(units=50,return_sequences=True))\n",
    "regressor.add(Dropout(0.2))\n",
    "    "
   ]
  },
  {
   "cell_type": "code",
   "execution_count": 26,
   "metadata": {},
   "outputs": [],
   "source": [
    "regressor.add(LSTM(units=50,return_sequences=True))\n",
    "regressor.add(Dropout(0.2))"
   ]
  },
  {
   "cell_type": "code",
   "execution_count": 27,
   "metadata": {},
   "outputs": [],
   "source": [
    "regressor.add(LSTM(units=50,return_sequences=False))\n",
    "regressor.add(Dropout(0.2))\n",
    "    "
   ]
  },
  {
   "cell_type": "code",
   "execution_count": 28,
   "metadata": {},
   "outputs": [],
   "source": [
    "regressor.add(Dense(units=1))"
   ]
  },
  {
   "cell_type": "code",
   "execution_count": 29,
   "metadata": {},
   "outputs": [],
   "source": [
    "regressor.compile(optimizer='adam',loss ='mean_squared_error')"
   ]
  },
  {
   "cell_type": "code",
   "execution_count": 30,
   "metadata": {},
   "outputs": [
    {
     "name": "stdout",
     "output_type": "stream",
     "text": [
      "WARNING:tensorflow:From C:\\Users\\dheer\\AppData\\Local\\Continuum\\anaconda3\\ANACONDA2\\lib\\site-packages\\tensorflow\\python\\ops\\math_ops.py:3066: to_int32 (from tensorflow.python.ops.math_ops) is deprecated and will be removed in a future version.\n",
      "Instructions for updating:\n",
      "Use tf.cast instead.\n",
      "Epoch 1/100\n",
      "99/99 [==============================] - 4s - loss: 0.0750     \n",
      "Epoch 2/100\n",
      "99/99 [==============================] - 0s - loss: 0.0135     \n",
      "Epoch 3/100\n",
      "99/99 [==============================] - 0s - loss: 0.0137     \n",
      "Epoch 4/100\n",
      "99/99 [==============================] - 0s - loss: 0.0132     \n",
      "Epoch 5/100\n",
      "99/99 [==============================] - 0s - loss: 0.0112     \n",
      "Epoch 6/100\n",
      "99/99 [==============================] - 0s - loss: 0.0083     \n",
      "Epoch 7/100\n",
      "99/99 [==============================] - 0s - loss: 0.0059     \n",
      "Epoch 8/100\n",
      "99/99 [==============================] - 0s - loss: 0.0055     \n",
      "Epoch 9/100\n",
      "99/99 [==============================] - 0s - loss: 0.0081     \n",
      "Epoch 10/100\n",
      "99/99 [==============================] - 0s - loss: 0.0042     \n",
      "Epoch 11/100\n",
      "99/99 [==============================] - 0s - loss: 0.0049     \n",
      "Epoch 12/100\n",
      "99/99 [==============================] - 0s - loss: 0.0035     \n",
      "Epoch 13/100\n",
      "99/99 [==============================] - 0s - loss: 0.0040     \n",
      "Epoch 14/100\n",
      "99/99 [==============================] - 0s - loss: 0.0042     \n",
      "Epoch 15/100\n",
      "99/99 [==============================] - 0s - loss: 0.0036     \n",
      "Epoch 16/100\n",
      "99/99 [==============================] - 0s - loss: 0.0048     \n",
      "Epoch 17/100\n",
      "99/99 [==============================] - 0s - loss: 0.0024     \n",
      "Epoch 18/100\n",
      "99/99 [==============================] - 0s - loss: 0.0040     \n",
      "Epoch 19/100\n",
      "99/99 [==============================] - 0s - loss: 0.0042     \n",
      "Epoch 20/100\n",
      "99/99 [==============================] - 0s - loss: 0.0025     \n",
      "Epoch 21/100\n",
      "99/99 [==============================] - 0s - loss: 0.0031     \n",
      "Epoch 22/100\n",
      "99/99 [==============================] - 0s - loss: 0.0023     \n",
      "Epoch 23/100\n",
      "99/99 [==============================] - 0s - loss: 0.0042     \n",
      "Epoch 24/100\n",
      "99/99 [==============================] - 0s - loss: 0.0034     \n",
      "Epoch 25/100\n",
      "99/99 [==============================] - 0s - loss: 0.0039     \n",
      "Epoch 26/100\n",
      "99/99 [==============================] - 0s - loss: 0.0025     \n",
      "Epoch 27/100\n",
      "99/99 [==============================] - 0s - loss: 0.0024     \n",
      "Epoch 28/100\n",
      "99/99 [==============================] - 0s - loss: 0.0028     \n",
      "Epoch 29/100\n",
      "99/99 [==============================] - 0s - loss: 0.0023     \n",
      "Epoch 30/100\n",
      "99/99 [==============================] - 0s - loss: 0.0018     \n",
      "Epoch 31/100\n",
      "99/99 [==============================] - 0s - loss: 0.0030     \n",
      "Epoch 32/100\n",
      "99/99 [==============================] - 0s - loss: 0.0029     \n",
      "Epoch 33/100\n",
      "99/99 [==============================] - 0s - loss: 0.0029     \n",
      "Epoch 34/100\n",
      "99/99 [==============================] - 0s - loss: 0.0029     \n",
      "Epoch 35/100\n",
      "99/99 [==============================] - 0s - loss: 0.0026     \n",
      "Epoch 36/100\n",
      "99/99 [==============================] - 0s - loss: 0.0025     \n",
      "Epoch 37/100\n",
      "99/99 [==============================] - 0s - loss: 0.0021     \n",
      "Epoch 38/100\n",
      "99/99 [==============================] - 0s - loss: 0.0026     \n",
      "Epoch 39/100\n",
      "99/99 [==============================] - 0s - loss: 0.0026     \n",
      "Epoch 40/100\n",
      "99/99 [==============================] - 0s - loss: 0.0028     \n",
      "Epoch 41/100\n",
      "99/99 [==============================] - 0s - loss: 0.0027     \n",
      "Epoch 42/100\n",
      "99/99 [==============================] - 0s - loss: 0.0029     \n",
      "Epoch 43/100\n",
      "99/99 [==============================] - 0s - loss: 0.0025     \n",
      "Epoch 44/100\n",
      "99/99 [==============================] - 0s - loss: 0.0021     \n",
      "Epoch 45/100\n",
      "99/99 [==============================] - 0s - loss: 0.0023     \n",
      "Epoch 46/100\n",
      "99/99 [==============================] - 0s - loss: 0.0021     \n",
      "Epoch 47/100\n",
      "99/99 [==============================] - 0s - loss: 0.0020     \n",
      "Epoch 48/100\n",
      "99/99 [==============================] - 0s - loss: 0.0021     \n",
      "Epoch 49/100\n",
      "99/99 [==============================] - 0s - loss: 0.0022     \n",
      "Epoch 50/100\n",
      "99/99 [==============================] - 0s - loss: 0.0024     \n",
      "Epoch 51/100\n",
      "99/99 [==============================] - 0s - loss: 0.0021     \n",
      "Epoch 52/100\n",
      "99/99 [==============================] - 0s - loss: 0.0028     \n",
      "Epoch 53/100\n",
      "99/99 [==============================] - 0s - loss: 0.0022     \n",
      "Epoch 54/100\n",
      "99/99 [==============================] - 0s - loss: 0.0027     \n",
      "Epoch 55/100\n",
      "99/99 [==============================] - 0s - loss: 0.0031     \n",
      "Epoch 56/100\n",
      "99/99 [==============================] - 0s - loss: 0.0021     \n",
      "Epoch 57/100\n",
      "99/99 [==============================] - 0s - loss: 0.0021     \n",
      "Epoch 58/100\n",
      "99/99 [==============================] - 0s - loss: 0.0023     \n",
      "Epoch 59/100\n",
      "99/99 [==============================] - 0s - loss: 0.0020     \n",
      "Epoch 60/100\n",
      "99/99 [==============================] - 0s - loss: 0.0023     \n",
      "Epoch 61/100\n",
      "99/99 [==============================] - 0s - loss: 0.0025     \n",
      "Epoch 62/100\n",
      "99/99 [==============================] - 0s - loss: 0.0026     e-0 - ETA: 0s - loss: 0.0\n",
      "Epoch 63/100\n",
      "99/99 [==============================] - 0s - loss: 0.0027     \n",
      "Epoch 64/100\n",
      "99/99 [==============================] - 0s - loss: 0.0022     \n",
      "Epoch 65/100\n",
      "99/99 [==============================] - 0s - loss: 0.0023     \n",
      "Epoch 66/100\n",
      "99/99 [==============================] - 0s - loss: 0.0023     \n",
      "Epoch 67/100\n",
      "99/99 [==============================] - 0s - loss: 0.0025     \n",
      "Epoch 68/100\n",
      "99/99 [==============================] - 0s - loss: 0.0022     \n",
      "Epoch 69/100\n",
      "99/99 [==============================] - 0s - loss: 0.0023     \n",
      "Epoch 70/100\n",
      "99/99 [==============================] - 0s - loss: 0.0019     \n",
      "Epoch 71/100\n",
      "99/99 [==============================] - 0s - loss: 0.0020     \n",
      "Epoch 72/100\n",
      "99/99 [==============================] - 0s - loss: 0.0020     \n",
      "Epoch 73/100\n",
      "99/99 [==============================] - 0s - loss: 0.0022     \n",
      "Epoch 74/100\n",
      "99/99 [==============================] - 0s - loss: 0.0022     \n",
      "Epoch 75/100\n",
      "99/99 [==============================] - 0s - loss: 0.0022     \n",
      "Epoch 76/100\n",
      "99/99 [==============================] - 0s - loss: 0.0026     \n",
      "Epoch 77/100\n",
      "99/99 [==============================] - 0s - loss: 0.0025     \n",
      "Epoch 78/100\n",
      "99/99 [==============================] - 0s - loss: 0.0026     \n",
      "Epoch 79/100\n",
      "99/99 [==============================] - 0s - loss: 0.0027     - ETA: 0s - loss: 0\n",
      "Epoch 80/100\n",
      "99/99 [==============================] - 0s - loss: 0.0027     \n",
      "Epoch 81/100\n",
      "99/99 [==============================] - 0s - loss: 0.0019     \n",
      "Epoch 82/100\n",
      "99/99 [==============================] - 0s - loss: 0.0022     \n",
      "Epoch 83/100\n",
      "99/99 [==============================] - 0s - loss: 0.0024     \n",
      "Epoch 84/100\n",
      "99/99 [==============================] - 0s - loss: 0.0024     \n",
      "Epoch 85/100\n",
      "99/99 [==============================] - 0s - loss: 0.0018     \n",
      "Epoch 86/100\n",
      "99/99 [==============================] - 0s - loss: 0.0020     \n",
      "Epoch 87/100\n",
      "99/99 [==============================] - 0s - loss: 0.0022     \n",
      "Epoch 88/100\n",
      "99/99 [==============================] - 0s - loss: 0.0020     \n",
      "Epoch 89/100\n",
      "99/99 [==============================] - 0s - loss: 0.0022     \n",
      "Epoch 90/100\n",
      "99/99 [==============================] - 0s - loss: 0.0018     \n",
      "Epoch 91/100\n",
      "99/99 [==============================] - 0s - loss: 0.0020     \n",
      "Epoch 92/100\n",
      "99/99 [==============================] - 0s - loss: 0.0024     \n",
      "Epoch 93/100\n",
      "99/99 [==============================] - 0s - loss: 0.0022     \n",
      "Epoch 94/100\n",
      "99/99 [==============================] - 0s - loss: 0.0023     \n",
      "Epoch 95/100\n",
      "99/99 [==============================] - 0s - loss: 0.0022     \n",
      "Epoch 96/100\n",
      "99/99 [==============================] - 0s - loss: 0.0021     \n",
      "Epoch 97/100\n",
      "99/99 [==============================] - 0s - loss: 0.0020     \n",
      "Epoch 98/100\n",
      "99/99 [==============================] - 0s - loss: 0.0026     \n",
      "Epoch 99/100\n",
      "99/99 [==============================] - 0s - loss: 0.0029     \n",
      "Epoch 100/100\n",
      "99/99 [==============================] - 0s - loss: 0.0021     \n"
     ]
    },
    {
     "data": {
      "text/plain": [
       "<keras.callbacks.History at 0x162a3c7bcf8>"
      ]
     },
     "execution_count": 30,
     "metadata": {},
     "output_type": "execute_result"
    }
   ],
   "source": [
    "regressor.fit(x_train,y_train,epochs=100,batch_size=2)"
   ]
  },
  {
   "cell_type": "code",
   "execution_count": 58,
   "metadata": {},
   "outputs": [
    {
     "name": "stdout",
     "output_type": "stream",
     "text": [
      "45\n"
     ]
    }
   ],
   "source": [
    "t2=dataset.iloc[100: ,1:2].values\n",
    "#t2=t2.reshape(-1,1)\n",
    "test_scaled=sc.fit_transform(t2)\n",
    "print(len(test_scaled))\n",
    "\n",
    "x_test=[]\n",
    "y_test=[]\n",
    "for i in range(1,len(t2)):\n",
    "    x_test.append(test_scaled[i-1:i,0])\n",
    "    y_test.append(test_scaled[i,0])\n",
    "x_test.append(test_scaled[44])\n",
    "x_test=np.array(x_test)\n",
    "\n",
    "\n",
    "\n"
   ]
  },
  {
   "cell_type": "code",
   "execution_count": 59,
   "metadata": {},
   "outputs": [
    {
     "data": {
      "text/plain": [
       "(45, 1)"
      ]
     },
     "execution_count": 59,
     "metadata": {},
     "output_type": "execute_result"
    }
   ],
   "source": [
    "#type(x_test)\n",
    "x_test.shape"
   ]
  },
  {
   "cell_type": "code",
   "execution_count": 60,
   "metadata": {},
   "outputs": [
    {
     "data": {
      "text/plain": [
       "(45, 1, 1)"
      ]
     },
     "execution_count": 60,
     "metadata": {},
     "output_type": "execute_result"
    }
   ],
   "source": [
    "x_test=np.reshape(x_test,(x_test.shape[0],x_test.shape[1],1))\n",
    "x_test.shape"
   ]
  },
  {
   "cell_type": "code",
   "execution_count": 61,
   "metadata": {},
   "outputs": [
    {
     "data": {
      "text/plain": [
       "array([[355.],\n",
       "       [422.],\n",
       "       [465.],\n",
       "       [467.],\n",
       "       [404.],\n",
       "       [347.],\n",
       "       [305.],\n",
       "       [336.],\n",
       "       [340.],\n",
       "       [318.],\n",
       "       [362.],\n",
       "       [348.],\n",
       "       [363.],\n",
       "       [435.],\n",
       "       [491.],\n",
       "       [505.],\n",
       "       [404.],\n",
       "       [359.],\n",
       "       [310.],\n",
       "       [337.],\n",
       "       [360.],\n",
       "       [342.],\n",
       "       [406.],\n",
       "       [396.],\n",
       "       [420.],\n",
       "       [472.],\n",
       "       [548.],\n",
       "       [559.],\n",
       "       [463.],\n",
       "       [407.],\n",
       "       [362.],\n",
       "       [405.],\n",
       "       [417.],\n",
       "       [391.],\n",
       "       [419.],\n",
       "       [461.],\n",
       "       [472.],\n",
       "       [535.],\n",
       "       [622.],\n",
       "       [606.],\n",
       "       [508.],\n",
       "       [461.],\n",
       "       [390.],\n",
       "       [432.],\n",
       "       [  0.]])"
      ]
     },
     "execution_count": 61,
     "metadata": {},
     "output_type": "execute_result"
    }
   ],
   "source": [
    "model=regressor.predict(x_test)\n",
    "model.shape\n",
    "#model[0]\n",
    "model=sc.inverse_transform(model)\n",
    "t2\n"
   ]
  },
  {
   "cell_type": "code",
   "execution_count": 62,
   "metadata": {},
   "outputs": [
    {
     "data": {
      "text/plain": [
       "45"
      ]
     },
     "execution_count": 62,
     "metadata": {},
     "output_type": "execute_result"
    }
   ],
   "source": [
    "len(model)"
   ]
  },
  {
   "cell_type": "code",
   "execution_count": 63,
   "metadata": {},
   "outputs": [
    {
     "data": {
      "image/png": "[encoded data removed]",
      "text/plain": [
       "<Figure size 432x288 with 1 Axes>"
      ]
     },
     "metadata": {},
     "output_type": "display_data"
    }
   ],
   "source": [
    "plt.plot(t2,color='red',label='Real google stocks')\n",
    "plt.plot(model,color='blue',label='Predicted stock price')\n",
    "plt.xlabel('time')\n",
    "plt.ylabel('seating')\n",
    "plt.legend()\n",
    "plt.show()"
   ]
  },
  {
   "cell_type": "code",
   "execution_count": 55,
   "metadata": {},
   "outputs": [
    {
     "ename": "AttributeError",
     "evalue": "'numpy.ndarray' object has no attribute 'append'",
     "output_type": "error",
     "traceback": [
      "\u001b[1;31m---------------------------------------------------------------------------\u001b[0m",
      "\u001b[1;31mAttributeError\u001b[0m                            Traceback (most recent call last)",
      "\u001b[1;32m<ipython-input-55-a26b2f26fb57>\u001b[0m in \u001b[0;36m<module>\u001b[1;34m()\u001b[0m\n\u001b[1;32m----> 1\u001b[1;33m \u001b[0mx_test\u001b[0m\u001b[1;33m.\u001b[0m\u001b[0mappend\u001b[0m\u001b[1;33m(\u001b[0m\u001b[0mtest_scaled\u001b[0m\u001b[1;33m[\u001b[0m\u001b[1;36m45\u001b[0m\u001b[1;33m]\u001b[0m\u001b[1;33m)\u001b[0m\u001b[1;33m\u001b[0m\u001b[0m\n\u001b[0m\u001b[0;32m      2\u001b[0m \u001b[0mmodel\u001b[0m\u001b[1;33m=\u001b[0m\u001b[0mregressor\u001b[0m\u001b[1;33m.\u001b[0m\u001b[0mpredict\u001b[0m\u001b[1;33m(\u001b[0m\u001b[0mx_test\u001b[0m\u001b[1;33m)\u001b[0m\u001b[1;33m\u001b[0m\u001b[0m\n",
      "\u001b[1;31mAttributeError\u001b[0m: 'numpy.ndarray' object has no attribute 'append'"
     ]
    }
   ],
   "source": []
  },
  {
   "cell_type": "code",
   "execution_count": null,
   "metadata": {},
   "outputs": [],
   "source": []
  }
 ],
 "metadata": {
  "kernelspec": {
   "display_name": "Python 3",
   "language": "python",
   "name": "python3"
  },
  "language_info": {
   "codemirror_mode": {
    "name": "ipython",
    "version": 3
   },
   "file_extension": ".py",
   "mimetype": "text/x-python",
   "name": "python",
   "nbconvert_exporter": "python",
   "pygments_lexer": "ipython3",
   "version": "3.6.5"
  }
 },
 "nbformat": 4,
 "nbformat_minor": 2
}

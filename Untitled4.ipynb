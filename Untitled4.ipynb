{
 "cells": [
  {
   "cell_type": "code",
   "execution_count": 15,
   "metadata": {},
   "outputs": [],
   "source": [
    "import random"
   ]
  },
  {
   "cell_type": "code",
   "execution_count": 16,
   "metadata": {},
   "outputs": [],
   "source": [
    "\n",
    "def move_black(x,y):\n",
    "    c = random.randrange(1,9)\n",
    "    if c==1: #up-right\n",
    "        if(x+1<N+1 and y+1<N+1):\n",
    "            x = x+1\n",
    "            y = y+1\n",
    "    elif c==2: #right\n",
    "        if(x+1<N+1):\n",
    "            x = x+1\n",
    "    elif c==3: #up\n",
    "        if(y+1<N+1):\n",
    "            y = y+1\n",
    "    elif c==4: #down-right\n",
    "        if(x+1<N+1 and y-1>0):\n",
    "            x = x+1\n",
    "            y = y-1\n",
    "    elif c==5: #down\n",
    "        if(y-1>0):\n",
    "            y = y-1\n",
    "    elif c==6: #down-left\n",
    "        if(x-1>0 and y-1>0):\n",
    "            x = x-1\n",
    "            y = y-1\n",
    "    elif c==7: #left\n",
    "        if(x-1>0):\n",
    "            x = x-1\n",
    "    elif c==8: #up-left\n",
    "        if(x-1>0 and y+1<N+1):\n",
    "            x = x-1\n",
    "            y = y+1\n",
    "    return x,y"
   ]
  },
  {
   "cell_type": "code",
   "execution_count": 17,
   "metadata": {},
   "outputs": [],
   "source": [
    "def move_white(x1,y1,x2,y2):\n",
    "    #x2 and y2 are black pawn's constant coordinates\n",
    "    if(x1-x2>0): #left\n",
    "        if(x1-1>0):\n",
    "            x1 = x1-1\n",
    "    elif(x2-x1>0): #right\n",
    "        if(x1+1<N+1):\n",
    "            x1 = x1+1\n",
    "    if(y1-y2>0): #down\n",
    "        if(y1-1>0):\n",
    "            y1 = y1-1\n",
    "    elif(y2-y1>0): #up\n",
    "        if(y1+1<N+1):\n",
    "            y1 = y1+1\n",
    "    return x1,y1\n"
   ]
  },
  {
   "cell_type": "code",
   "execution_count": 18,
   "metadata": {},
   "outputs": [
    {
     "name": "stdout",
     "output_type": "stream",
     "text": [
      "Enter the size of the board: 9\n",
      "Enter the white pawn's x coordinate:8\n",
      "Enter the white pawn's y coordinate:1\n",
      "Enter the black pawn's x coordinate:3\n",
      "Enter the black pawn's y coordinate:1\n",
      "After 2 steps -> New white coordinates: 7,1 and New Black coordinates: 4,1 \n",
      "After 3 steps -> New white coordinates: 6,1 and New Black coordinates: 5,2 \n",
      "Total number of steps taken are 3\n"
     ]
    }
   ],
   "source": [
    "N = int(input(\"Enter the size of the board: \"))\n",
    "wx = int(input(\"Enter the white pawn's x coordinate:\"))\n",
    "wy = int(input(\"Enter the white pawn's y coordinate:\"))\n",
    "bx = int(input(\"Enter the black pawn's x coordinate:\"))\n",
    "by = int(input(\"Enter the black pawn's y coordinate:\"))\n",
    "flag=0\n",
    "steps=1\n",
    "while(flag==0):\n",
    "    wx,wy = move_white(wx,wy,bx,by)\n",
    "    if(wx==bx and wy==by):\n",
    "        flag = 1\n",
    "    else:\n",
    "        bx,by = move_black(bx,by)\n",
    "        steps = steps+1\n",
    "        print(\"After {} steps -> New white coordinates: {},{} and New Black coordinates: {},{} \".format(steps,wx,wy,bx,by)) \n",
    "print(\"Total number of steps taken are {}\".format(steps))"
   ]
  },
  {
   "cell_type": "code",
   "execution_count": null,
   "metadata": {},
   "outputs": [],
   "source": []
  }
 ],
 "metadata": {
  "kernelspec": {
   "display_name": "Python 3",
   "language": "python",
   "name": "python3"
  },
  "language_info": {
   "codemirror_mode": {
    "name": "ipython",
    "version": 3
   },
   "file_extension": ".py",
   "mimetype": "text/x-python",
   "name": "python",
   "nbconvert_exporter": "python",
   "pygments_lexer": "ipython3",
   "version": "3.6.5"
  }
 },
 "nbformat": 4,
 "nbformat_minor": 2
}

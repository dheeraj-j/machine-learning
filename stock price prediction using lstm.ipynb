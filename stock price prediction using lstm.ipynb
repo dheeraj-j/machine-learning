{
 "cells": [
  {
   "cell_type": "code",
   "execution_count": 1,
   "metadata": {},
   "outputs": [],
   "source": [
    "import numpy as np\n",
    "import pandas as pd\n",
    "import matplotlib.pyplot as plt"
   ]
  },
  {
   "cell_type": "code",
   "execution_count": 2,
   "metadata": {},
   "outputs": [],
   "source": [
    "d_train=pd.read_csv(\"C:/Users/dheer/Desktop/Deep_Learning_A_Z/Recurrent_Neural_Networks/Google_Stock_Price_Train.csv\")"
   ]
  },
  {
   "cell_type": "code",
   "execution_count": 3,
   "metadata": {},
   "outputs": [
    {
     "data": {
      "text/html": [
       "<div>\n",
       "<style scoped>\n",
       "    .dataframe tbody tr th:only-of-type {\n",
       "        vertical-align: middle;\n",
       "    }\n",
       "\n",
       "    .dataframe tbody tr th {\n",
       "        vertical-align: top;\n",
       "    }\n",
       "\n",
       "    .dataframe thead th {\n",
       "        text-align: right;\n",
       "    }\n",
       "</style>\n",
       "<table border=\"1\" class=\"dataframe\">\n",
       "  <thead>\n",
       "    <tr style=\"text-align: right;\">\n",
       "      <th></th>\n",
       "      <th>Date</th>\n",
       "      <th>Open</th>\n",
       "      <th>High</th>\n",
       "      <th>Low</th>\n",
       "      <th>Close</th>\n",
       "      <th>Volume</th>\n",
       "    </tr>\n",
       "  </thead>\n",
       "  <tbody>\n",
       "    <tr>\n",
       "      <th>0</th>\n",
       "      <td>1/3/2012</td>\n",
       "      <td>325.25</td>\n",
       "      <td>332.83</td>\n",
       "      <td>324.97</td>\n",
       "      <td>663.59</td>\n",
       "      <td>7,380,500</td>\n",
       "    </tr>\n",
       "    <tr>\n",
       "      <th>1</th>\n",
       "      <td>1/4/2012</td>\n",
       "      <td>331.27</td>\n",
       "      <td>333.87</td>\n",
       "      <td>329.08</td>\n",
       "      <td>666.45</td>\n",
       "      <td>5,749,400</td>\n",
       "    </tr>\n",
       "    <tr>\n",
       "      <th>2</th>\n",
       "      <td>1/5/2012</td>\n",
       "      <td>329.83</td>\n",
       "      <td>330.75</td>\n",
       "      <td>326.89</td>\n",
       "      <td>657.21</td>\n",
       "      <td>6,590,300</td>\n",
       "    </tr>\n",
       "    <tr>\n",
       "      <th>3</th>\n",
       "      <td>1/6/2012</td>\n",
       "      <td>328.34</td>\n",
       "      <td>328.77</td>\n",
       "      <td>323.68</td>\n",
       "      <td>648.24</td>\n",
       "      <td>5,405,900</td>\n",
       "    </tr>\n",
       "    <tr>\n",
       "      <th>4</th>\n",
       "      <td>1/9/2012</td>\n",
       "      <td>322.04</td>\n",
       "      <td>322.29</td>\n",
       "      <td>309.46</td>\n",
       "      <td>620.76</td>\n",
       "      <td>11,688,800</td>\n",
       "    </tr>\n",
       "  </tbody>\n",
       "</table>\n",
       "</div>"
      ],
      "text/plain": [
       "       Date    Open    High     Low   Close      Volume\n",
       "0  1/3/2012  325.25  332.83  324.97  663.59   7,380,500\n",
       "1  1/4/2012  331.27  333.87  329.08  666.45   5,749,400\n",
       "2  1/5/2012  329.83  330.75  326.89  657.21   6,590,300\n",
       "3  1/6/2012  328.34  328.77  323.68  648.24   5,405,900\n",
       "4  1/9/2012  322.04  322.29  309.46  620.76  11,688,800"
      ]
     },
     "execution_count": 3,
     "metadata": {},
     "output_type": "execute_result"
    }
   ],
   "source": [
    "d_train.head()"
   ]
  },
  {
   "cell_type": "code",
   "execution_count": 4,
   "metadata": {},
   "outputs": [],
   "source": [
    "train=d_train.iloc[:, 1:2].values"
   ]
  },
  {
   "cell_type": "code",
   "execution_count": 5,
   "metadata": {},
   "outputs": [],
   "source": [
    "from sklearn.preprocessing import MinMaxScaler\n",
    "sc=MinMaxScaler(feature_range =(0,1))\n",
    "scaled_train=sc.fit_transform(train)"
   ]
  },
  {
   "cell_type": "code",
   "execution_count": 6,
   "metadata": {},
   "outputs": [],
   "source": [
    "x_train=[]\n",
    "y_train=[]\n",
    "for i in range(60,1258):\n",
    "    x_train.append(scaled_train[i-60:i, 0])\n",
    "    y_train.append(scaled_train[i, 0])\n",
    "x_train=np.array(x_train)\n",
    "y_train=np.array(y_train)"
   ]
  },
  {
   "cell_type": "code",
   "execution_count": 7,
   "metadata": {},
   "outputs": [],
   "source": [
    "#converting it into a 3D input coz rnn cans take 3d ip oly\n",
    "x_train=np.reshape(x_train,(x_train.shape[0],x_train.shape[1],1))"
   ]
  },
  {
   "cell_type": "code",
   "execution_count": 8,
   "metadata": {},
   "outputs": [
    {
     "data": {
      "text/plain": [
       "(1198, 60, 1)"
      ]
     },
     "execution_count": 8,
     "metadata": {},
     "output_type": "execute_result"
    }
   ],
   "source": [
    "x_train.shape"
   ]
  },
  {
   "cell_type": "code",
   "execution_count": 9,
   "metadata": {},
   "outputs": [
    {
     "name": "stderr",
     "output_type": "stream",
     "text": [
      "Using TensorFlow backend.\n",
      "C:\\Users\\dheer\\AppData\\Local\\Continuum\\anaconda3\\ANACONDA2\\lib\\site-packages\\h5py\\__init__.py:36: FutureWarning: Conversion of the second argument of issubdtype from `float` to `np.floating` is deprecated. In future, it will be treated as `np.float64 == np.dtype(float).type`.\n",
      "  from ._conv import register_converters as _register_converters\n"
     ]
    }
   ],
   "source": [
    "from keras.models import Sequential\n",
    "from keras.layers import Dense\n",
    "from keras.layers import LSTM\n",
    "from keras.layers import Dropout\n"
   ]
  },
  {
   "cell_type": "code",
   "execution_count": 10,
   "metadata": {},
   "outputs": [],
   "source": [
    "regressor=Sequential()"
   ]
  },
  {
   "cell_type": "code",
   "execution_count": 11,
   "metadata": {},
   "outputs": [
    {
     "name": "stdout",
     "output_type": "stream",
     "text": [
      "WARNING:tensorflow:From C:\\Users\\dheer\\AppData\\Local\\Continuum\\anaconda3\\ANACONDA2\\lib\\site-packages\\tensorflow\\python\\framework\\op_def_library.py:263: colocate_with (from tensorflow.python.framework.ops) is deprecated and will be removed in a future version.\n",
      "Instructions for updating:\n",
      "Colocations handled automatically by placer.\n",
      "WARNING:tensorflow:From C:\\Users\\dheer\\AppData\\Local\\Continuum\\anaconda3\\ANACONDA2\\lib\\site-packages\\keras\\backend\\tensorflow_backend.py:1044: calling reduce_sum_v1 (from tensorflow.python.ops.math_ops) with keep_dims is deprecated and will be removed in a future version.\n",
      "Instructions for updating:\n",
      "keep_dims is deprecated, use keepdims instead\n",
      "WARNING:tensorflow:From C:\\Users\\dheer\\AppData\\Local\\Continuum\\anaconda3\\ANACONDA2\\lib\\site-packages\\keras\\backend\\tensorflow_backend.py:2681: calling dropout (from tensorflow.python.ops.nn_ops) with keep_prob is deprecated and will be removed in a future version.\n",
      "Instructions for updating:\n",
      "Please use `rate` instead of `keep_prob`. Rate should be set to `rate = 1 - keep_prob`.\n"
     ]
    }
   ],
   "source": [
    "regressor.add(LSTM(units=50,return_sequences=True,input_shape=(x_train.shape[1],1)))\n",
    "regressor.add(Dropout(0.2))\n",
    "    "
   ]
  },
  {
   "cell_type": "code",
   "execution_count": 12,
   "metadata": {},
   "outputs": [],
   "source": [
    "regressor.add(LSTM(units=50,return_sequences=True))\n",
    "regressor.add(Dropout(0.2))\n",
    "    "
   ]
  },
  {
   "cell_type": "code",
   "execution_count": 13,
   "metadata": {},
   "outputs": [],
   "source": [
    "regressor.add(LSTM(units=50,return_sequences=True))\n",
    "regressor.add(Dropout(0.2))\n",
    "    "
   ]
  },
  {
   "cell_type": "code",
   "execution_count": 14,
   "metadata": {},
   "outputs": [],
   "source": [
    "regressor.add(LSTM(units=50,return_sequences=True))\n",
    "regressor.add(Dropout(0.2))"
   ]
  },
  {
   "cell_type": "code",
   "execution_count": 15,
   "metadata": {},
   "outputs": [],
   "source": [
    "regressor.add(LSTM(units=50,return_sequences=False))\n",
    "regressor.add(Dropout(0.2))\n",
    "    "
   ]
  },
  {
   "cell_type": "code",
   "execution_count": 16,
   "metadata": {},
   "outputs": [],
   "source": [
    "regressor.add(Dense(units=1))"
   ]
  },
  {
   "cell_type": "code",
   "execution_count": 17,
   "metadata": {},
   "outputs": [],
   "source": [
    "regressor.compile(optimizer='adam',loss ='mean_squared_error')"
   ]
  },
  {
   "cell_type": "code",
   "execution_count": 18,
   "metadata": {},
   "outputs": [
    {
     "name": "stdout",
     "output_type": "stream",
     "text": [
      "WARNING:tensorflow:From C:\\Users\\dheer\\AppData\\Local\\Continuum\\anaconda3\\ANACONDA2\\lib\\site-packages\\tensorflow\\python\\ops\\math_ops.py:3066: to_int32 (from tensorflow.python.ops.math_ops) is deprecated and will be removed in a future version.\n",
      "Instructions for updating:\n",
      "Use tf.cast instead.\n",
      "Epoch 1/100\n",
      "1198/1198 [==============================] - 9s - loss: 0.0658     \n",
      "Epoch 2/100\n",
      "1198/1198 [==============================] - 6s - loss: 0.0075     \n",
      "Epoch 3/100\n",
      "1198/1198 [==============================] - 6s - loss: 0.0064     \n",
      "Epoch 4/100\n",
      "1198/1198 [==============================] - 6s - loss: 0.0056     \n",
      "Epoch 5/100\n",
      "1198/1198 [==============================] - 6s - loss: 0.0054     \n",
      "Epoch 6/100\n",
      "1198/1198 [==============================] - 7s - loss: 0.0053     - ETA: 0s - loss: 0.005\n",
      "Epoch 7/100\n",
      "1198/1198 [==============================] - 7s - loss: 0.0057     \n",
      "Epoch 8/100\n",
      "1198/1198 [==============================] - 6s - loss: 0.0054     \n",
      "Epoch 9/100\n",
      "1198/1198 [==============================] - 6s - loss: 0.0049     \n",
      "Epoch 10/100\n",
      "1198/1198 [==============================] - 6s - loss: 0.0047     - ETA: 0s - loss: 0.\n",
      "Epoch 11/100\n",
      "1198/1198 [==============================] - 6s - loss: 0.0046     \n",
      "Epoch 12/100\n",
      "1198/1198 [==============================] - 6s - loss: 0.0052     - ETA: 6s - loss: 0. - ETA: 0s - loss: 0.\n",
      "Epoch 13/100\n",
      "1198/1198 [==============================] - 6s - loss: 0.0041     \n",
      "Epoch 14/100\n",
      "1198/1198 [==============================] - 6s - loss: 0.0044     \n",
      "Epoch 15/100\n",
      "1198/1198 [==============================] - 6s - loss: 0.0044     \n",
      "Epoch 16/100\n",
      "1198/1198 [==============================] - 6s - loss: 0.0041     \n",
      "Epoch 17/100\n",
      "1198/1198 [==============================] - 6s - loss: 0.0040     - ETA: \n",
      "Epoch 18/100\n",
      "1198/1198 [==============================] - 7s - loss: 0.0041     \n",
      "Epoch 19/100\n",
      "1198/1198 [==============================] - 7s - loss: 0.0038     \n",
      "Epoch 20/100\n",
      "1198/1198 [==============================] - 7s - loss: 0.0039     - ETA: 2s - loss: 0. - ETA: 1s - loss:\n",
      "Epoch 21/100\n",
      "1198/1198 [==============================] - 6s - loss: 0.0038     - \n",
      "Epoch 22/100\n",
      "1198/1198 [==============================] - 6s - loss: 0.0043     \n",
      "Epoch 23/100\n",
      "1198/1198 [==============================] - 6s - loss: 0.0035     \n",
      "Epoch 24/100\n",
      "1198/1198 [==============================] - 6s - loss: 0.0035     \n",
      "Epoch 25/100\n",
      "1198/1198 [==============================] - 6s - loss: 0.0033     \n",
      "Epoch 26/100\n",
      "1198/1198 [==============================] - 6s - loss: 0.0033     \n",
      "Epoch 27/100\n",
      "1198/1198 [==============================] - 6s - loss: 0.0033     \n",
      "Epoch 28/100\n",
      "1198/1198 [==============================] - 6s - loss: 0.0033     \n",
      "Epoch 29/100\n",
      "1198/1198 [==============================] - 6s - loss: 0.0033     \n",
      "Epoch 30/100\n",
      "1198/1198 [==============================] - 7s - loss: 0.0036     \n",
      "Epoch 31/100\n",
      "1198/1198 [==============================] - 7s - loss: 0.0034     \n",
      "Epoch 32/100\n",
      "1198/1198 [==============================] - 6s - loss: 0.0032     \n",
      "Epoch 33/100\n",
      "1198/1198 [==============================] - 7s - loss: 0.0034     - ETA: 2s - l - ETA: 0s - loss: 0.003\n",
      "Epoch 34/100\n",
      "1198/1198 [==============================] - 6s - loss: 0.0031     \n",
      "Epoch 35/100\n",
      "1198/1198 [==============================] - 6s - loss: 0.0028     \n",
      "Epoch 36/100\n",
      "1198/1198 [==============================] - 7s - loss: 0.0029     - ETA: 6s - l\n",
      "Epoch 37/100\n",
      "1198/1198 [==============================] - 6s - loss: 0.0031     - ETA: \n",
      "Epoch 38/100\n",
      "1198/1198 [==============================] - 6s - loss: 0.0029     - ETA: 5s - - ETA: 3s - loss: 0.002 - ET\n",
      "Epoch 39/100\n",
      "1198/1198 [==============================] - 6s - loss: 0.0030     - ETA: 0s - loss: \n",
      "Epoch 40/100\n",
      "1198/1198 [==============================] - 6s - loss: 0.0028     - ETA:\n",
      "Epoch 41/100\n",
      "1198/1198 [==============================] - 7s - loss: 0.0030     \n",
      "Epoch 42/100\n",
      "1198/1198 [==============================] - 6s - loss: 0.0028     \n",
      "Epoch 43/100\n",
      "1198/1198 [==============================] - 7s - loss: 0.0027     \n",
      "Epoch 44/100\n",
      "1198/1198 [==============================] - 6s - loss: 0.0026     - ETA: \n",
      "Epoch 45/100\n",
      "1198/1198 [==============================] - 7s - loss: 0.0025     \n",
      "Epoch 46/100\n",
      "1198/1198 [==============================] - 6s - loss: 0.0026     - ETA: 3s - loss: 0.0 - ETA: 2\n",
      "Epoch 47/100\n",
      "1198/1198 [==============================] - 6s - loss: 0.0034     \n",
      "Epoch 48/100\n",
      "1198/1198 [==============================] - 6s - loss: 0.0024     - ETA: 1s - loss:\n",
      "Epoch 49/100\n",
      "1198/1198 [==============================] - 6s - loss: 0.0025     \n",
      "Epoch 50/100\n",
      "1198/1198 [==============================] - 6s - loss: 0.0025     - ETA: 1s - loss\n",
      "Epoch 51/100\n",
      "1198/1198 [==============================] - 6s - loss: 0.0023     \n",
      "Epoch 52/100\n",
      "1198/1198 [==============================] - 6s - loss: 0.0024     \n",
      "Epoch 53/100\n",
      "1198/1198 [==============================] - 6s - loss: 0.0023     \n",
      "Epoch 54/100\n",
      "1198/1198 [==============================] - 6s - loss: 0.0025     - ETA: 0s - loss: 0.0\n",
      "Epoch 55/100\n",
      "1198/1198 [==============================] - 6s - loss: 0.0026     \n",
      "Epoch 56/100\n",
      "1198/1198 [==============================] - 6s - loss: 0.0024     \n",
      "Epoch 57/100\n",
      "1198/1198 [==============================] - 6s - loss: 0.0022     - \n",
      "Epoch 58/100\n",
      "1198/1198 [==============================] - 6s - loss: 0.0025     - ETA: 2s - \n",
      "Epoch 59/100\n",
      "1198/1198 [==============================] - 7s - loss: 0.0021     - ETA: 0s - loss: 0.002\n",
      "Epoch 60/100\n",
      "1198/1198 [==============================] - 6s - loss: 0.0022     \n",
      "Epoch 61/100\n",
      "1198/1198 [==============================] - 6s - loss: 0.0020     \n",
      "Epoch 62/100\n",
      "1198/1198 [==============================] - 6s - loss: 0.0022     - ETA: 3s - loss: 0.00 - ETA: 3s - lo - ETA: 1s - los\n",
      "Epoch 63/100\n",
      "1198/1198 [==============================] - 6s - loss: 0.0022     - ETA: 6s - - ETA: 3s - loss: 0. - ETA: 3 - ETA: 0s - loss: 0.002 - ETA: 0s - loss: 0.002\n",
      "Epoch 64/100\n",
      "1198/1198 [==============================] - 6s - loss: 0.0021     - ET\n",
      "Epoch 65/100\n",
      "1198/1198 [==============================] - 6s - loss: 0.0021     \n",
      "Epoch 66/100\n",
      "1198/1198 [==============================] - 6s - loss: 0.0023     - ETA: 1s - los\n",
      "Epoch 67/100\n",
      "1198/1198 [==============================] - 6s - loss: 0.0021     \n",
      "Epoch 68/100\n",
      "1198/1198 [==============================] - 6s - loss: 0.0019     - ETA: 1s - loss\n",
      "Epoch 69/100\n",
      "1198/1198 [==============================] - 6s - loss: 0.0021     - - ETA: 1s - loss\n",
      "Epoch 70/100\n",
      "1198/1198 [==============================] - 6s - loss: 0.0021     - ETA: 5s - l - ETA\n",
      "Epoch 71/100\n",
      "1198/1198 [==============================] - 7s - loss: 0.0021     - ETA: 1s - loss: \n",
      "Epoch 72/100\n",
      "1198/1198 [==============================] - 6s - loss: 0.0017     - ETA: 5s - loss: 0.0 - ETA: 5s - - ETA: 2s\n",
      "Epoch 73/100\n",
      "1198/1198 [==============================] - 6s - loss: 0.0022     - ETA: 6s - loss: 0.00 - ETA: 5s - loss: 0.0 - ETA: 5s - loss: 0 - ETA: 4s - loss - ETA: \n",
      "Epoch 74/100\n",
      "1198/1198 [==============================] - 6s - loss: 0.0020     \n",
      "Epoch 75/100\n",
      "1198/1198 [==============================] - 6s - loss: 0.0020     - \n",
      "Epoch 76/100\n",
      "1198/1198 [==============================] - 6s - loss: 0.0018     - ETA: 5s - loss: 0. - ETA: 4s - loss: 0. - ETA: 3s - los - ETA: 1s - lo\n",
      "Epoch 77/100\n",
      "1198/1198 [==============================] - 6s - loss: 0.0019     - ETA: 6s - loss:  - ETA: 5s - loss:  \n",
      "Epoch 78/100\n",
      "1198/1198 [==============================] - 6s - loss: 0.0017     - ETA: 6s - los - E - ETA: 0s - loss: \n",
      "Epoch 79/100\n",
      "1198/1198 [==============================] - 6s - loss: 0.0018     - ETA: 5s - loss: 0.00 - ETA: 5s - loss: - ETA: 4s - ETA: 1s - los\n",
      "Epoch 80/100\n",
      "1198/1198 [==============================] - 7s - loss: 0.0018     - ETA: 2s \n",
      "Epoch 81/100\n",
      "1198/1198 [==============================] - 7s - loss: 0.0021     - ETA: 3s - los - ETA: 1s - loss\n",
      "Epoch 82/100\n",
      "1198/1198 [==============================] - 6s - loss: 0.0019     - ETA: 2s - - ETA: 0s - loss: 0.001\n",
      "Epoch 83/100\n",
      "1198/1198 [==============================] - 7s - loss: 0.0020     - ETA: 6s -  \n",
      "Epoch 84/100\n",
      "1198/1198 [==============================] - 7s - loss: 0.0020     - ETA: 6s - los \n",
      "Epoch 85/100\n",
      "1198/1198 [==============================] - 6s - loss: 0.0018     \n",
      "Epoch 86/100\n",
      "1198/1198 [==============================] - 6s - loss: 0.0020     - ETA: 5s - los\n",
      "Epoch 87/100\n",
      "1198/1198 [==============================] - 6s - loss: 0.0017     - ETA: 5s - los\n",
      "Epoch 88/100\n",
      "1198/1198 [==============================] - 6s - loss: 0.0015     - ETA: 2s - loss:  - ETA: 1s - loss\n",
      "Epoch 89/100\n",
      "1198/1198 [==============================] - 6s - loss: 0.0017     - ETA: 3s - loss: 0.00 - ET\n",
      "Epoch 90/100\n",
      "1198/1198 [==============================] - 6s - loss: 0.0016     \n",
      "Epoch 91/100\n",
      "1198/1198 [==============================] - 6s - loss: 0.0016     - ETA: 2\n",
      "Epoch 92/100\n",
      "1198/1198 [==============================] - 6s - loss: 0.0014     \n",
      "Epoch 93/100\n",
      "1198/1198 [==============================] - 6s - loss: 0.0015     \n",
      "Epoch 94/100\n",
      "1198/1198 [==============================] - 6s - loss: 0.0017     - ETA: 5 - ETA: 2s - loss: 0.0 - ETA: 2s - loss:  - ETA: 1s - loss:\n",
      "Epoch 95/100\n",
      "1198/1198 [==============================] - 6s - loss: 0.0015     - ETA: 5s -  - ETA: 3s - loss: 0.001 - ETA: 3s - loss: 0.001 - ETA:\n",
      "Epoch 96/100\n",
      "1198/1198 [==============================] - 6s - loss: 0.0016     - ETA: 3s - loss: 0.0 - ET\n",
      "Epoch 97/100\n",
      "1198/1198 [==============================] - 6s - loss: 0.0015     \n",
      "Epoch 98/100\n",
      "1198/1198 [==============================] - 6s - loss: 0.0017     \n",
      "Epoch 99/100\n",
      "1198/1198 [==============================] - 6s - loss: 0.0014     \n",
      "Epoch 100/100\n",
      "1198/1198 [==============================] - 6s - loss: 0.0017     - ETA: 3s - loss: 0.0 - ETA:\n"
     ]
    },
    {
     "data": {
      "text/plain": [
       "<keras.callbacks.History at 0x1e03baedf60>"
      ]
     },
     "execution_count": 18,
     "metadata": {},
     "output_type": "execute_result"
    }
   ],
   "source": [
    "regressor.fit(x_train,y_train,epochs=100,batch_size=32)"
   ]
  },
  {
   "cell_type": "code",
   "execution_count": 19,
   "metadata": {},
   "outputs": [],
   "source": [
    "d_test=pd.read_csv(\"C:/Users/dheer/Desktop/Deep_Learning_A_Z/Recurrent_Neural_Networks/Google_Stock_Price_Test.csv\")"
   ]
  },
  {
   "cell_type": "code",
   "execution_count": 20,
   "metadata": {},
   "outputs": [
    {
     "data": {
      "text/html": [
       "<div>\n",
       "<style scoped>\n",
       "    .dataframe tbody tr th:only-of-type {\n",
       "        vertical-align: middle;\n",
       "    }\n",
       "\n",
       "    .dataframe tbody tr th {\n",
       "        vertical-align: top;\n",
       "    }\n",
       "\n",
       "    .dataframe thead th {\n",
       "        text-align: right;\n",
       "    }\n",
       "</style>\n",
       "<table border=\"1\" class=\"dataframe\">\n",
       "  <thead>\n",
       "    <tr style=\"text-align: right;\">\n",
       "      <th></th>\n",
       "      <th>Date</th>\n",
       "      <th>Open</th>\n",
       "      <th>High</th>\n",
       "      <th>Low</th>\n",
       "      <th>Close</th>\n",
       "      <th>Volume</th>\n",
       "    </tr>\n",
       "  </thead>\n",
       "  <tbody>\n",
       "    <tr>\n",
       "      <th>0</th>\n",
       "      <td>1/3/2017</td>\n",
       "      <td>778.81</td>\n",
       "      <td>789.63</td>\n",
       "      <td>775.80</td>\n",
       "      <td>786.14</td>\n",
       "      <td>1,657,300</td>\n",
       "    </tr>\n",
       "    <tr>\n",
       "      <th>1</th>\n",
       "      <td>1/4/2017</td>\n",
       "      <td>788.36</td>\n",
       "      <td>791.34</td>\n",
       "      <td>783.16</td>\n",
       "      <td>786.90</td>\n",
       "      <td>1,073,000</td>\n",
       "    </tr>\n",
       "    <tr>\n",
       "      <th>2</th>\n",
       "      <td>1/5/2017</td>\n",
       "      <td>786.08</td>\n",
       "      <td>794.48</td>\n",
       "      <td>785.02</td>\n",
       "      <td>794.02</td>\n",
       "      <td>1,335,200</td>\n",
       "    </tr>\n",
       "    <tr>\n",
       "      <th>3</th>\n",
       "      <td>1/6/2017</td>\n",
       "      <td>795.26</td>\n",
       "      <td>807.90</td>\n",
       "      <td>792.20</td>\n",
       "      <td>806.15</td>\n",
       "      <td>1,640,200</td>\n",
       "    </tr>\n",
       "    <tr>\n",
       "      <th>4</th>\n",
       "      <td>1/9/2017</td>\n",
       "      <td>806.40</td>\n",
       "      <td>809.97</td>\n",
       "      <td>802.83</td>\n",
       "      <td>806.65</td>\n",
       "      <td>1,272,400</td>\n",
       "    </tr>\n",
       "  </tbody>\n",
       "</table>\n",
       "</div>"
      ],
      "text/plain": [
       "       Date    Open    High     Low   Close     Volume\n",
       "0  1/3/2017  778.81  789.63  775.80  786.14  1,657,300\n",
       "1  1/4/2017  788.36  791.34  783.16  786.90  1,073,000\n",
       "2  1/5/2017  786.08  794.48  785.02  794.02  1,335,200\n",
       "3  1/6/2017  795.26  807.90  792.20  806.15  1,640,200\n",
       "4  1/9/2017  806.40  809.97  802.83  806.65  1,272,400"
      ]
     },
     "execution_count": 20,
     "metadata": {},
     "output_type": "execute_result"
    }
   ],
   "source": [
    "d_test.head()"
   ]
  },
  {
   "cell_type": "code",
   "execution_count": 21,
   "metadata": {},
   "outputs": [],
   "source": [
    "test=d_test.iloc[:, 1:2].values"
   ]
  },
  {
   "cell_type": "code",
   "execution_count": 22,
   "metadata": {},
   "outputs": [
    {
     "data": {
      "text/plain": [
       "(20, 1)"
      ]
     },
     "execution_count": 22,
     "metadata": {},
     "output_type": "execute_result"
    }
   ],
   "source": [
    "test.shape\n"
   ]
  },
  {
   "cell_type": "code",
   "execution_count": 23,
   "metadata": {},
   "outputs": [
    {
     "data": {
      "text/plain": [
       "(80, 1)"
      ]
     },
     "execution_count": 23,
     "metadata": {},
     "output_type": "execute_result"
    }
   ],
   "source": [
    "dataset=pd.concat((d_train['Open'],d_test['Open']), axis=0)\n",
    "inputs=dataset[len(dataset)-len(d_test)-60: ].values\n",
    "inputs=inputs.reshape(-1,1)\n",
    "inputs.shape\n"
   ]
  },
  {
   "cell_type": "code",
   "execution_count": 24,
   "metadata": {},
   "outputs": [],
   "source": [
    "inputs=sc.transform(inputs) "
   ]
  },
  {
   "cell_type": "code",
   "execution_count": 25,
   "metadata": {},
   "outputs": [
    {
     "data": {
      "text/plain": [
       "array([[0.9299055 , 0.93113327, 0.92750577, ..., 0.95725128, 0.93796041,\n",
       "        0.93688146],\n",
       "       [0.93113327, 0.92750577, 0.94415507, ..., 0.93796041, 0.93688146,\n",
       "        0.92955205],\n",
       "       [0.92750577, 0.94415507, 0.93876032, ..., 0.93688146, 0.92955205,\n",
       "        0.94731751],\n",
       "       ...,\n",
       "       [0.96054394, 0.9371419 , 0.92841729, ..., 1.01045465, 1.02407173,\n",
       "        1.03930724],\n",
       "       [0.9371419 , 0.92841729, 0.90804747, ..., 1.02407173, 1.03930724,\n",
       "        1.03354044],\n",
       "       [0.92841729, 0.90804747, 0.8771858 , ..., 1.03930724, 1.03354044,\n",
       "        0.99624228]])"
      ]
     },
     "execution_count": 25,
     "metadata": {},
     "output_type": "execute_result"
    }
   ],
   "source": [
    "x_test=[]\n",
    "for i in range(60,80):\n",
    "    x_test.append(inputs[i-60:i, 0])\n",
    "  #  y_train.append(scaled_train[i, 0])\n",
    "x_test=np.array(x_test)\n",
    "x_test\n"
   ]
  },
  {
   "cell_type": "code",
   "execution_count": 26,
   "metadata": {},
   "outputs": [],
   "source": [
    "x_test=np.reshape(x_test,(x_test.shape[0],x_test.shape[1],1))"
   ]
  },
  {
   "cell_type": "code",
   "execution_count": 27,
   "metadata": {},
   "outputs": [
    {
     "data": {
      "text/plain": [
       "array([[787.45776],\n",
       "       [784.3458 ],\n",
       "       [785.7364 ],\n",
       "       [787.60364],\n",
       "       [791.4526 ],\n",
       "       [797.9447 ],\n",
       "       [802.53424],\n",
       "       [802.82837],\n",
       "       [802.07635],\n",
       "       [801.68005],\n",
       "       [801.804  ],\n",
       "       [802.00574],\n",
       "       [802.25275],\n",
       "       [803.3014 ],\n",
       "       [804.4716 ],\n",
       "       [810.42   ],\n",
       "       [817.88434],\n",
       "       [824.72504],\n",
       "       [826.52484],\n",
       "       [818.6374 ]], dtype=float32)"
      ]
     },
     "execution_count": 27,
     "metadata": {},
     "output_type": "execute_result"
    }
   ],
   "source": [
    "predicted_price=regressor.predict(x_test)\n",
    "predicted_price=sc.inverse_transform(predicted_price)\n",
    "predicted_price"
   ]
  },
  {
   "cell_type": "code",
   "execution_count": 28,
   "metadata": {},
   "outputs": [
    {
     "data": {
      "image/png": "[encoded data removed]",
      "text/plain": [
       "<Figure size 432x288 with 1 Axes>"
      ]
     },
     "metadata": {},
     "output_type": "display_data"
    }
   ],
   "source": [
    "plt.plot(test,color='red',label='Real google stocks')\n",
    "plt.plot(predicted_price,color='blue',label='Predicted stock price')\n",
    "plt.xlabel('time')\n",
    "plt.ylabel('prices')\n",
    "plt.legend()\n",
    "plt.show()"
   ]
  },
  {
   "cell_type": "code",
   "execution_count": null,
   "metadata": {},
   "outputs": [],
   "source": []
  }
 ],
 "metadata": {
  "kernelspec": {
   "display_name": "Python 3",
   "language": "python",
   "name": "python3"
  },
  "language_info": {
   "codemirror_mode": {
    "name": "ipython",
    "version": 3
   },
   "file_extension": ".py",
   "mimetype": "text/x-python",
   "name": "python",
   "nbconvert_exporter": "python",
   "pygments_lexer": "ipython3",
   "version": "3.6.5"
  }
 },
 "nbformat": 4,
 "nbformat_minor": 2
}
